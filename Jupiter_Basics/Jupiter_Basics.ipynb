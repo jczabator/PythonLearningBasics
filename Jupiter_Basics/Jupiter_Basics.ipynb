{
 "cells": [
  {
   "cell_type": "code",
   "execution_count": 1,
   "id": "38a6ed1c-dbc6-4bb4-a258-034ad85cae73",
   "metadata": {},
   "outputs": [
    {
     "name": "stdout",
     "output_type": "stream",
     "text": [
      "Hello World!\n"
     ]
    }
   ],
   "source": [
    "print('Hello World!')"
   ]
  },
  {
   "cell_type": "markdown",
   "id": "32499687-3193-48e6-8cd8-fae142712865",
   "metadata": {},
   "source": [
    "this is markdown cell"
   ]
  },
  {
   "cell_type": "markdown",
   "id": "88b84161-ea1f-4144-938c-e7bca57326e4",
   "metadata": {},
   "source": [
    "<b>bold cell</b> is here"
   ]
  },
  {
   "cell_type": "markdown",
   "id": "c1085639-9651-4a74-8d69-3c3cb0b06e4d",
   "metadata": {},
   "source": [
    "*** this is bold also *** cell here"
   ]
  },
  {
   "cell_type": "markdown",
   "id": "ac9d11e0-60f8-44c6-bc5c-630fbe07fcb1",
   "metadata": {},
   "source": [
    "**this is bold also** cell here"
   ]
  },
  {
   "cell_type": "code",
   "execution_count": 6,
   "id": "5040acc3-9318-4605-bca7-2fb54ac0abde",
   "metadata": {},
   "outputs": [
    {
     "data": {
      "text/plain": [
       "16"
      ]
     },
     "execution_count": 6,
     "metadata": {},
     "output_type": "execute_result"
    }
   ],
   "source": [
    "8*2"
   ]
  }
 ],
 "metadata": {
  "kernelspec": {
   "display_name": "Python 3 (ipykernel)",
   "language": "python",
   "name": "python3"
  },
  "language_info": {
   "codemirror_mode": {
    "name": "ipython",
    "version": 3
   },
   "file_extension": ".py",
   "mimetype": "text/x-python",
   "name": "python",
   "nbconvert_exporter": "python",
   "pygments_lexer": "ipython3",
   "version": "3.9.12"
  }
 },
 "nbformat": 4,
 "nbformat_minor": 5
}
