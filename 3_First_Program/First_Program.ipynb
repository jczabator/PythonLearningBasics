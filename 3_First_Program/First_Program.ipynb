{
 "cells": [
  {
   "cell_type": "code",
   "execution_count": null,
   "id": "1d26de4c-3457-4ae9-ad2d-e456b7094860",
   "metadata": {},
   "outputs": [],
   "source": [
    "First Program"
   ]
  },
  {
   "cell_type": "markdown",
   "id": "6726f468-de95-4026-938d-b79c8fed373a",
   "metadata": {},
   "source": [
    "**Program!** A program is a procedure that tells the computer how to succed a given task."
   ]
  },
  {
   "cell_type": "code",
   "execution_count": 3,
   "id": "45ac4662-55f3-45a4-beca-34f842c5fe42",
   "metadata": {},
   "outputs": [
    {
     "name": "stdout",
     "output_type": "stream",
     "text": [
      "Hello World!\n"
     ]
    }
   ],
   "source": [
    "print('Hello World!')"
   ]
  },
  {
   "cell_type": "code",
   "execution_count": 6,
   "id": "bdb45999-17b2-497d-bbf1-290f6bc5658b",
   "metadata": {},
   "outputs": [
    {
     "name": "stdout",
     "output_type": "stream",
     "text": [
      "This is second line of code\n"
     ]
    }
   ],
   "source": [
    "print('This is second line of code')"
   ]
  },
  {
   "cell_type": "code",
   "execution_count": 7,
   "id": "3caca512-405e-442c-ab43-7fdb5e7d4090",
   "metadata": {},
   "outputs": [
    {
     "name": "stdout",
     "output_type": "stream",
     "text": [
      "2345\n"
     ]
    }
   ],
   "source": [
    "print(2345)"
   ]
  },
  {
   "cell_type": "code",
   "execution_count": 5,
   "id": "ba5acc7f-8652-4465-9b84-3c202521b312",
   "metadata": {},
   "outputs": [
    {
     "data": {
      "text/plain": [
       "7"
      ]
     },
     "execution_count": 5,
     "metadata": {},
     "output_type": "execute_result"
    }
   ],
   "source": [
    "5 + 2"
   ]
  },
  {
   "cell_type": "markdown",
   "id": "5b13a984-0efd-4aed-8663-454d663bcae5",
   "metadata": {},
   "source": [
    "## Arithmetic Operations"
   ]
  },
  {
   "cell_type": "markdown",
   "id": "37ffaf38-4aae-4df1-a8ca-6171530b5c5f",
   "metadata": {},
   "source": [
    "* Addition +\n",
    "* Subtraction: -\n",
    "* Division: /\n",
    "* Multiplication: *\n",
    "* Exponential: **\n",
    "* Modulus: %\n",
    "* Floor Division: //"
   ]
  },
  {
   "cell_type": "code",
   "execution_count": 11,
   "id": "6e3dca48-7d0f-4d67-9300-741c70892b0e",
   "metadata": {},
   "outputs": [
    {
     "data": {
      "text/plain": [
       "40"
      ]
     },
     "execution_count": 11,
     "metadata": {},
     "output_type": "execute_result"
    }
   ],
   "source": [
    "24+16\n"
   ]
  },
  {
   "cell_type": "code",
   "execution_count": 12,
   "id": "ab639493-75f7-49be-8125-564ed6420eb3",
   "metadata": {},
   "outputs": [
    {
     "data": {
      "text/plain": [
       "30"
      ]
     },
     "execution_count": 12,
     "metadata": {},
     "output_type": "execute_result"
    }
   ],
   "source": [
    "47-17"
   ]
  },
  {
   "cell_type": "code",
   "execution_count": 13,
   "id": "0ae84f93-1e0e-4431-9a34-1d0b92011368",
   "metadata": {},
   "outputs": [
    {
     "data": {
      "text/plain": [
       "40"
      ]
     },
     "execution_count": 13,
     "metadata": {},
     "output_type": "execute_result"
    }
   ],
   "source": [
    "5*8"
   ]
  },
  {
   "cell_type": "code",
   "execution_count": 14,
   "id": "b937a624-08f9-4eb0-af3d-9b2c155afce5",
   "metadata": {},
   "outputs": [
    {
     "data": {
      "text/plain": [
       "8.0"
      ]
     },
     "execution_count": 14,
     "metadata": {},
     "output_type": "execute_result"
    }
   ],
   "source": [
    "80/10\n"
   ]
  },
  {
   "cell_type": "code",
   "execution_count": 15,
   "id": "51f07ad0-1ef7-4698-b472-2ece7bf7e079",
   "metadata": {},
   "outputs": [
    {
     "data": {
      "text/plain": [
       "9"
      ]
     },
     "execution_count": 15,
     "metadata": {},
     "output_type": "execute_result"
    }
   ],
   "source": [
    "3**2\n"
   ]
  },
  {
   "cell_type": "code",
   "execution_count": 16,
   "id": "4e4d5b71-9fff-487f-822b-624dd52ab82e",
   "metadata": {},
   "outputs": [
    {
     "data": {
      "text/plain": [
       "64"
      ]
     },
     "execution_count": 16,
     "metadata": {},
     "output_type": "execute_result"
    }
   ],
   "source": [
    "4**3"
   ]
  },
  {
   "cell_type": "code",
   "execution_count": 17,
   "id": "d27e3b01-3467-46a5-9d1c-6bb59b8454e6",
   "metadata": {},
   "outputs": [
    {
     "data": {
      "text/plain": [
       "4"
      ]
     },
     "execution_count": 17,
     "metadata": {},
     "output_type": "execute_result"
    }
   ],
   "source": [
    "64%5"
   ]
  },
  {
   "cell_type": "code",
   "execution_count": 18,
   "id": "36aae795-f83d-4324-a8df-67abc83184ff",
   "metadata": {},
   "outputs": [
    {
     "data": {
      "text/plain": [
       "1"
      ]
     },
     "execution_count": 18,
     "metadata": {},
     "output_type": "execute_result"
    }
   ],
   "source": [
    "9%2\n"
   ]
  },
  {
   "cell_type": "code",
   "execution_count": 19,
   "id": "1defa935-2dad-4e48-8cd5-d6abc01089c3",
   "metadata": {},
   "outputs": [
    {
     "data": {
      "text/plain": [
       "4.5"
      ]
     },
     "execution_count": 19,
     "metadata": {},
     "output_type": "execute_result"
    }
   ],
   "source": [
    "9/2\n"
   ]
  },
  {
   "cell_type": "code",
   "execution_count": 20,
   "id": "cb69b256-165f-4b3a-aa8c-7f72f7279520",
   "metadata": {},
   "outputs": [
    {
     "data": {
      "text/plain": [
       "4"
      ]
     },
     "execution_count": 20,
     "metadata": {},
     "output_type": "execute_result"
    }
   ],
   "source": [
    "9//2"
   ]
  },
  {
   "cell_type": "code",
   "execution_count": 21,
   "id": "583e1fc9-28ef-47b9-94f9-b8fdb1ce8b45",
   "metadata": {},
   "outputs": [
    {
     "data": {
      "text/plain": [
       "2.4"
      ]
     },
     "execution_count": 21,
     "metadata": {},
     "output_type": "execute_result"
    }
   ],
   "source": [
    "12/5"
   ]
  },
  {
   "cell_type": "code",
   "execution_count": 22,
   "id": "e61de43e-1e27-4faa-a65f-40c0a9a60ad4",
   "metadata": {},
   "outputs": [
    {
     "data": {
      "text/plain": [
       "2"
      ]
     },
     "execution_count": 22,
     "metadata": {},
     "output_type": "execute_result"
    }
   ],
   "source": [
    "12//5\n"
   ]
  },
  {
   "cell_type": "code",
   "execution_count": 23,
   "id": "d81adebc-2e59-4cf4-96d9-d9057327c7e9",
   "metadata": {},
   "outputs": [
    {
     "data": {
      "text/plain": [
       "4"
      ]
     },
     "execution_count": 23,
     "metadata": {},
     "output_type": "execute_result"
    }
   ],
   "source": [
    "9//2"
   ]
  },
  {
   "cell_type": "markdown",
   "id": "814d34f2-b79b-4c9f-99ae-bbef8eb04ebd",
   "metadata": {},
   "source": [
    "## Values and Types"
   ]
  },
  {
   "cell_type": "markdown",
   "id": "f9b95288-fe56-47e4-b350-c94614574398",
   "metadata": {},
   "source": [
    "**Values**: Values are anything in the program which holds meaning(data).\n",
    "They compose program memory (state)."
   ]
  },
  {
   "cell_type": "markdown",
   "id": "ec9e14c9-8a72-4632-ab6d-42d8437db5d8",
   "metadata": {},
   "source": [
    "**Type**: Type is format of that value(memory)."
   ]
  },
  {
   "cell_type": "code",
   "execution_count": 25,
   "id": "20ad8330-20b3-48f1-8a37-d660d45f086d",
   "metadata": {},
   "outputs": [
    {
     "data": {
      "text/plain": [
       "'Hello World'"
      ]
     },
     "execution_count": 25,
     "metadata": {},
     "output_type": "execute_result"
    }
   ],
   "source": [
    "\"Hello World\""
   ]
  },
  {
   "cell_type": "code",
   "execution_count": 26,
   "id": "fd04f979-eaf9-4396-91c5-c0d298527c21",
   "metadata": {},
   "outputs": [
    {
     "data": {
      "text/plain": [
       "2"
      ]
     },
     "execution_count": 26,
     "metadata": {},
     "output_type": "execute_result"
    }
   ],
   "source": [
    "2"
   ]
  },
  {
   "cell_type": "code",
   "execution_count": 27,
   "id": "84897fdf-5dcf-4fae-91e9-f85996b9c93a",
   "metadata": {},
   "outputs": [
    {
     "data": {
      "text/plain": [
       "str"
      ]
     },
     "execution_count": 27,
     "metadata": {},
     "output_type": "execute_result"
    }
   ],
   "source": [
    "type(\"Hello World\")"
   ]
  },
  {
   "cell_type": "code",
   "execution_count": 28,
   "id": "92a2edfc-6433-4ddd-b9e4-656584447dcc",
   "metadata": {},
   "outputs": [
    {
     "data": {
      "text/plain": [
       "int"
      ]
     },
     "execution_count": 28,
     "metadata": {},
     "output_type": "execute_result"
    }
   ],
   "source": [
    "type(2)"
   ]
  },
  {
   "cell_type": "code",
   "execution_count": 29,
   "id": "9dc22d6f-9a8d-4d33-850c-be5602412846",
   "metadata": {},
   "outputs": [
    {
     "data": {
      "text/plain": [
       "float"
      ]
     },
     "execution_count": 29,
     "metadata": {},
     "output_type": "execute_result"
    }
   ],
   "source": [
    "type(4.6)"
   ]
  },
  {
   "cell_type": "code",
   "execution_count": 30,
   "id": "81b0bad2-6684-4a9c-8190-8789ec42e0dc",
   "metadata": {},
   "outputs": [
    {
     "data": {
      "text/plain": [
       "1476"
      ]
     },
     "execution_count": 30,
     "metadata": {},
     "output_type": "execute_result"
    }
   ],
   "source": [
    "24*60+36"
   ]
  },
  {
   "cell_type": "code",
   "execution_count": null,
   "id": "aebcab29-1f5a-4562-b40d-9fe288abe687",
   "metadata": {},
   "outputs": [],
   "source": []
  }
 ],
 "metadata": {
  "kernelspec": {
   "display_name": "Python 3 (ipykernel)",
   "language": "python",
   "name": "python3"
  },
  "language_info": {
   "codemirror_mode": {
    "name": "ipython",
    "version": 3
   },
   "file_extension": ".py",
   "mimetype": "text/x-python",
   "name": "python",
   "nbconvert_exporter": "python",
   "pygments_lexer": "ipython3",
   "version": "3.9.12"
  }
 },
 "nbformat": 4,
 "nbformat_minor": 5
}
