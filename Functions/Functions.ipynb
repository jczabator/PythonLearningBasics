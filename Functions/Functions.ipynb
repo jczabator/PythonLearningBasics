{
 "cells": [
  {
   "cell_type": "markdown",
   "id": "81165a06-5515-4bc7-804a-daf7bd3af0b9",
   "metadata": {},
   "source": [
    "## What is a Function?"
   ]
  },
  {
   "cell_type": "markdown",
   "id": "2e320774-5ba4-4c5f-9275-20f6b439270b",
   "metadata": {},
   "source": [
    "**Function** is a special code fragment written to perform a specific task"
   ]
  },
  {
   "cell_type": "markdown",
   "id": "11c1544b-b82f-40c8-b7b2-fd62147e701d",
   "metadata": {},
   "source": [
    "Functions unly run when you call them"
   ]
  },
  {
   "cell_type": "markdown",
   "id": "23613f93-2f7a-4290-a8bd-b599ee39b7ee",
   "metadata": {},
   "source": [
    "Functions may have parameters (arguments)\n"
   ]
  },
  {
   "cell_type": "markdown",
   "id": "293a558b-d27e-4099-b427-58be4364119e",
   "metadata": {},
   "source": [
    "Functions may return a value back"
   ]
  },
  {
   "cell_type": "markdown",
   "id": "44b05091-63a7-4b37-ab4c-68d1e87e5c8b",
   "metadata": {},
   "source": [
    "Calling a function:\n",
    "**function_name()**"
   ]
  },
  {
   "cell_type": "markdown",
   "id": "82ec41b7-cb36-4252-987f-73cc337481ef",
   "metadata": {},
   "source": [
    "Calling a function with parameters:\n",
    "function_name(par1, par2)"
   ]
  },
  {
   "cell_type": "markdown",
   "id": "ccdb741e-b62f-4b09-9211-99d96e60e628",
   "metadata": {},
   "source": [
    "Functions prevent code duplications"
   ]
  },
  {
   "cell_type": "code",
   "execution_count": 6,
   "id": "09211811-9d81-4a5e-91dc-1a1c9630026c",
   "metadata": {},
   "outputs": [
    {
     "data": {
      "text/plain": [
       "int"
      ]
     },
     "execution_count": 6,
     "metadata": {},
     "output_type": "execute_result"
    }
   ],
   "source": [
    "# type()\n",
    "type(42)"
   ]
  },
  {
   "cell_type": "code",
   "execution_count": 7,
   "id": "80394093-fde7-4f1b-9225-1207dad26f24",
   "metadata": {},
   "outputs": [
    {
     "data": {
      "text/plain": [
       "str"
      ]
     },
     "execution_count": 7,
     "metadata": {},
     "output_type": "execute_result"
    }
   ],
   "source": [
    "type('a sunny day')"
   ]
  },
  {
   "cell_type": "code",
   "execution_count": 9,
   "id": "f9894da2-c296-466d-933f-77c2fda2b7d1",
   "metadata": {},
   "outputs": [
    {
     "data": {
      "text/plain": [
       "str"
      ]
     },
     "execution_count": 9,
     "metadata": {},
     "output_type": "execute_result"
    }
   ],
   "source": [
    "type('AI')"
   ]
  },
  {
   "cell_type": "code",
   "execution_count": 10,
   "id": "30d660b7-8551-4cca-804f-65155d905023",
   "metadata": {},
   "outputs": [
    {
     "data": {
      "text/plain": [
       "5"
      ]
     },
     "execution_count": 10,
     "metadata": {},
     "output_type": "execute_result"
    }
   ],
   "source": [
    "# int() conv to int\n",
    "int(5.98)"
   ]
  },
  {
   "cell_type": "code",
   "execution_count": 11,
   "id": "bcf0c207-220c-42bc-ae77-df6cb4f59ef4",
   "metadata": {},
   "outputs": [
    {
     "ename": "ValueError",
     "evalue": "invalid literal for int() with base 10: 'value'",
     "output_type": "error",
     "traceback": [
      "\u001b[1;31m---------------------------------------------------------------------------\u001b[0m",
      "\u001b[1;31mValueError\u001b[0m                                Traceback (most recent call last)",
      "Input \u001b[1;32mIn [11]\u001b[0m, in \u001b[0;36m<cell line: 1>\u001b[1;34m()\u001b[0m\n\u001b[1;32m----> 1\u001b[0m \u001b[38;5;28;43mint\u001b[39;49m\u001b[43m(\u001b[49m\u001b[38;5;124;43m'\u001b[39;49m\u001b[38;5;124;43mvalue\u001b[39;49m\u001b[38;5;124;43m'\u001b[39;49m\u001b[43m)\u001b[49m\n",
      "\u001b[1;31mValueError\u001b[0m: invalid literal for int() with base 10: 'value'"
     ]
    }
   ],
   "source": [
    "int('value')"
   ]
  },
  {
   "cell_type": "code",
   "execution_count": 12,
   "id": "dfdd1c27-c863-4429-bbe4-6e082b17f4e4",
   "metadata": {},
   "outputs": [
    {
     "data": {
      "text/plain": [
       "82"
      ]
     },
     "execution_count": 12,
     "metadata": {},
     "output_type": "execute_result"
    }
   ],
   "source": [
    "int(\"82\")"
   ]
  },
  {
   "cell_type": "code",
   "execution_count": 13,
   "id": "74d07431-5ed8-44b1-a368-7148afab802c",
   "metadata": {},
   "outputs": [
    {
     "data": {
      "text/plain": [
       "'45'"
      ]
     },
     "execution_count": 13,
     "metadata": {},
     "output_type": "execute_result"
    }
   ],
   "source": [
    "# str() -> converts (casts) the fiven arg to str\n",
    "str(45)"
   ]
  },
  {
   "cell_type": "code",
   "execution_count": 14,
   "id": "e64d178e-1855-4674-8777-0a1b666969c5",
   "metadata": {},
   "outputs": [
    {
     "data": {
      "text/plain": [
       "'45.124'"
      ]
     },
     "execution_count": 14,
     "metadata": {},
     "output_type": "execute_result"
    }
   ],
   "source": [
    "str(45.124)"
   ]
  },
  {
   "cell_type": "code",
   "execution_count": 15,
   "id": "4a4ba769-a29e-405a-9fca-0db169de38dd",
   "metadata": {},
   "outputs": [
    {
     "data": {
      "text/plain": [
       "'gotham'"
      ]
     },
     "execution_count": 15,
     "metadata": {},
     "output_type": "execute_result"
    }
   ],
   "source": [
    "str('gotham')"
   ]
  },
  {
   "cell_type": "code",
   "execution_count": 18,
   "id": "e4b2e6b0-7baf-4f98-81e7-04b9ac312b22",
   "metadata": {},
   "outputs": [
    {
     "data": {
      "text/plain": [
       "12.0"
      ]
     },
     "execution_count": 18,
     "metadata": {},
     "output_type": "execute_result"
    }
   ],
   "source": [
    "# float() -> \n",
    "float(12)"
   ]
  },
  {
   "cell_type": "code",
   "execution_count": 19,
   "id": "9c4a0b31-08b0-4a3a-84a3-aa3a8a2824b6",
   "metadata": {},
   "outputs": [
    {
     "data": {
      "text/plain": [
       "4.0"
      ]
     },
     "execution_count": 19,
     "metadata": {},
     "output_type": "execute_result"
    }
   ],
   "source": [
    "float('4')"
   ]
  },
  {
   "cell_type": "code",
   "execution_count": 20,
   "id": "45412e53-8e9f-4286-b245-6910de075b24",
   "metadata": {},
   "outputs": [
    {
     "data": {
      "text/plain": [
       "-78.0"
      ]
     },
     "execution_count": 20,
     "metadata": {},
     "output_type": "execute_result"
    }
   ],
   "source": [
    "num = '-78'\n",
    "float(num)\n"
   ]
  },
  {
   "cell_type": "code",
   "execution_count": 21,
   "id": "bb5f1adc-670d-4353-b82e-a7ced523ecf2",
   "metadata": {},
   "outputs": [
    {
     "ename": "ValueError",
     "evalue": "could not convert string to float: '78-'",
     "output_type": "error",
     "traceback": [
      "\u001b[1;31m---------------------------------------------------------------------------\u001b[0m",
      "\u001b[1;31mValueError\u001b[0m                                Traceback (most recent call last)",
      "Input \u001b[1;32mIn [21]\u001b[0m, in \u001b[0;36m<cell line: 2>\u001b[1;34m()\u001b[0m\n\u001b[0;32m      1\u001b[0m num \u001b[38;5;241m=\u001b[39m \u001b[38;5;124m'\u001b[39m\u001b[38;5;124m78-\u001b[39m\u001b[38;5;124m'\u001b[39m\n\u001b[1;32m----> 2\u001b[0m \u001b[38;5;28;43mfloat\u001b[39;49m\u001b[43m(\u001b[49m\u001b[43mnum\u001b[49m\u001b[43m)\u001b[49m\n",
      "\u001b[1;31mValueError\u001b[0m: could not convert string to float: '78-'"
     ]
    }
   ],
   "source": [
    "num = '78-'\n",
    "float(num)"
   ]
  },
  {
   "cell_type": "markdown",
   "id": "eb3bcc05-25dd-43cd-b6fe-44441c0a31b4",
   "metadata": {},
   "source": [
    "We use Math module to do math operations"
   ]
  },
  {
   "cell_type": "markdown",
   "id": "a36e79c8-fd88-4246-8929-a63aa165a60a",
   "metadata": {},
   "source": [
    "Module is any python file (.py) that includes executable Python code"
   ]
  },
  {
   "cell_type": "code",
   "execution_count": 24,
   "id": "03373e25-c20c-44d4-a36d-7dd5d95dabd4",
   "metadata": {},
   "outputs": [],
   "source": [
    "# import math module\n",
    "import math"
   ]
  },
  {
   "cell_type": "code",
   "execution_count": 25,
   "id": "2d430c50-609f-4125-88c9-71770c117993",
   "metadata": {},
   "outputs": [
    {
     "name": "stdout",
     "output_type": "stream",
     "text": [
      "<module 'math' (built-in)>\n"
     ]
    }
   ],
   "source": [
    "# see the module docs\n",
    "print(math)"
   ]
  },
  {
   "cell_type": "code",
   "execution_count": 26,
   "id": "4c7b034f-b0dc-4ac2-81b1-60060d478db3",
   "metadata": {
    "collapsed": true,
    "jupyter": {
     "outputs_hidden": true
    },
    "tags": []
   },
   "outputs": [
    {
     "name": "stdout",
     "output_type": "stream",
     "text": [
      "Help on built-in module math:\n",
      "\n",
      "NAME\n",
      "    math\n",
      "\n",
      "DESCRIPTION\n",
      "    This module provides access to the mathematical functions\n",
      "    defined by the C standard.\n",
      "\n",
      "FUNCTIONS\n",
      "    acos(x, /)\n",
      "        Return the arc cosine (measured in radians) of x.\n",
      "        \n",
      "        The result is between 0 and pi.\n",
      "    \n",
      "    acosh(x, /)\n",
      "        Return the inverse hyperbolic cosine of x.\n",
      "    \n",
      "    asin(x, /)\n",
      "        Return the arc sine (measured in radians) of x.\n",
      "        \n",
      "        The result is between -pi/2 and pi/2.\n",
      "    \n",
      "    asinh(x, /)\n",
      "        Return the inverse hyperbolic sine of x.\n",
      "    \n",
      "    atan(x, /)\n",
      "        Return the arc tangent (measured in radians) of x.\n",
      "        \n",
      "        The result is between -pi/2 and pi/2.\n",
      "    \n",
      "    atan2(y, x, /)\n",
      "        Return the arc tangent (measured in radians) of y/x.\n",
      "        \n",
      "        Unlike atan(y/x), the signs of both x and y are considered.\n",
      "    \n",
      "    atanh(x, /)\n",
      "        Return the inverse hyperbolic tangent of x.\n",
      "    \n",
      "    ceil(x, /)\n",
      "        Return the ceiling of x as an Integral.\n",
      "        \n",
      "        This is the smallest integer >= x.\n",
      "    \n",
      "    comb(n, k, /)\n",
      "        Number of ways to choose k items from n items without repetition and without order.\n",
      "        \n",
      "        Evaluates to n! / (k! * (n - k)!) when k <= n and evaluates\n",
      "        to zero when k > n.\n",
      "        \n",
      "        Also called the binomial coefficient because it is equivalent\n",
      "        to the coefficient of k-th term in polynomial expansion of the\n",
      "        expression (1 + x)**n.\n",
      "        \n",
      "        Raises TypeError if either of the arguments are not integers.\n",
      "        Raises ValueError if either of the arguments are negative.\n",
      "    \n",
      "    copysign(x, y, /)\n",
      "        Return a float with the magnitude (absolute value) of x but the sign of y.\n",
      "        \n",
      "        On platforms that support signed zeros, copysign(1.0, -0.0)\n",
      "        returns -1.0.\n",
      "    \n",
      "    cos(x, /)\n",
      "        Return the cosine of x (measured in radians).\n",
      "    \n",
      "    cosh(x, /)\n",
      "        Return the hyperbolic cosine of x.\n",
      "    \n",
      "    degrees(x, /)\n",
      "        Convert angle x from radians to degrees.\n",
      "    \n",
      "    dist(p, q, /)\n",
      "        Return the Euclidean distance between two points p and q.\n",
      "        \n",
      "        The points should be specified as sequences (or iterables) of\n",
      "        coordinates.  Both inputs must have the same dimension.\n",
      "        \n",
      "        Roughly equivalent to:\n",
      "            sqrt(sum((px - qx) ** 2.0 for px, qx in zip(p, q)))\n",
      "    \n",
      "    erf(x, /)\n",
      "        Error function at x.\n",
      "    \n",
      "    erfc(x, /)\n",
      "        Complementary error function at x.\n",
      "    \n",
      "    exp(x, /)\n",
      "        Return e raised to the power of x.\n",
      "    \n",
      "    expm1(x, /)\n",
      "        Return exp(x)-1.\n",
      "        \n",
      "        This function avoids the loss of precision involved in the direct evaluation of exp(x)-1 for small x.\n",
      "    \n",
      "    fabs(x, /)\n",
      "        Return the absolute value of the float x.\n",
      "    \n",
      "    factorial(x, /)\n",
      "        Find x!.\n",
      "        \n",
      "        Raise a ValueError if x is negative or non-integral.\n",
      "    \n",
      "    floor(x, /)\n",
      "        Return the floor of x as an Integral.\n",
      "        \n",
      "        This is the largest integer <= x.\n",
      "    \n",
      "    fmod(x, y, /)\n",
      "        Return fmod(x, y), according to platform C.\n",
      "        \n",
      "        x % y may differ.\n",
      "    \n",
      "    frexp(x, /)\n",
      "        Return the mantissa and exponent of x, as pair (m, e).\n",
      "        \n",
      "        m is a float and e is an int, such that x = m * 2.**e.\n",
      "        If x is 0, m and e are both 0.  Else 0.5 <= abs(m) < 1.0.\n",
      "    \n",
      "    fsum(seq, /)\n",
      "        Return an accurate floating point sum of values in the iterable seq.\n",
      "        \n",
      "        Assumes IEEE-754 floating point arithmetic.\n",
      "    \n",
      "    gamma(x, /)\n",
      "        Gamma function at x.\n",
      "    \n",
      "    gcd(*integers)\n",
      "        Greatest Common Divisor.\n",
      "    \n",
      "    hypot(...)\n",
      "        hypot(*coordinates) -> value\n",
      "        \n",
      "        Multidimensional Euclidean distance from the origin to a point.\n",
      "        \n",
      "        Roughly equivalent to:\n",
      "            sqrt(sum(x**2 for x in coordinates))\n",
      "        \n",
      "        For a two dimensional point (x, y), gives the hypotenuse\n",
      "        using the Pythagorean theorem:  sqrt(x*x + y*y).\n",
      "        \n",
      "        For example, the hypotenuse of a 3/4/5 right triangle is:\n",
      "        \n",
      "            >>> hypot(3.0, 4.0)\n",
      "            5.0\n",
      "    \n",
      "    isclose(a, b, *, rel_tol=1e-09, abs_tol=0.0)\n",
      "        Determine whether two floating point numbers are close in value.\n",
      "        \n",
      "          rel_tol\n",
      "            maximum difference for being considered \"close\", relative to the\n",
      "            magnitude of the input values\n",
      "          abs_tol\n",
      "            maximum difference for being considered \"close\", regardless of the\n",
      "            magnitude of the input values\n",
      "        \n",
      "        Return True if a is close in value to b, and False otherwise.\n",
      "        \n",
      "        For the values to be considered close, the difference between them\n",
      "        must be smaller than at least one of the tolerances.\n",
      "        \n",
      "        -inf, inf and NaN behave similarly to the IEEE 754 Standard.  That\n",
      "        is, NaN is not close to anything, even itself.  inf and -inf are\n",
      "        only close to themselves.\n",
      "    \n",
      "    isfinite(x, /)\n",
      "        Return True if x is neither an infinity nor a NaN, and False otherwise.\n",
      "    \n",
      "    isinf(x, /)\n",
      "        Return True if x is a positive or negative infinity, and False otherwise.\n",
      "    \n",
      "    isnan(x, /)\n",
      "        Return True if x is a NaN (not a number), and False otherwise.\n",
      "    \n",
      "    isqrt(n, /)\n",
      "        Return the integer part of the square root of the input.\n",
      "    \n",
      "    lcm(*integers)\n",
      "        Least Common Multiple.\n",
      "    \n",
      "    ldexp(x, i, /)\n",
      "        Return x * (2**i).\n",
      "        \n",
      "        This is essentially the inverse of frexp().\n",
      "    \n",
      "    lgamma(x, /)\n",
      "        Natural logarithm of absolute value of Gamma function at x.\n",
      "    \n",
      "    log(...)\n",
      "        log(x, [base=math.e])\n",
      "        Return the logarithm of x to the given base.\n",
      "        \n",
      "        If the base not specified, returns the natural logarithm (base e) of x.\n",
      "    \n",
      "    log10(x, /)\n",
      "        Return the base 10 logarithm of x.\n",
      "    \n",
      "    log1p(x, /)\n",
      "        Return the natural logarithm of 1+x (base e).\n",
      "        \n",
      "        The result is computed in a way which is accurate for x near zero.\n",
      "    \n",
      "    log2(x, /)\n",
      "        Return the base 2 logarithm of x.\n",
      "    \n",
      "    modf(x, /)\n",
      "        Return the fractional and integer parts of x.\n",
      "        \n",
      "        Both results carry the sign of x and are floats.\n",
      "    \n",
      "    nextafter(x, y, /)\n",
      "        Return the next floating-point value after x towards y.\n",
      "    \n",
      "    perm(n, k=None, /)\n",
      "        Number of ways to choose k items from n items without repetition and with order.\n",
      "        \n",
      "        Evaluates to n! / (n - k)! when k <= n and evaluates\n",
      "        to zero when k > n.\n",
      "        \n",
      "        If k is not specified or is None, then k defaults to n\n",
      "        and the function returns n!.\n",
      "        \n",
      "        Raises TypeError if either of the arguments are not integers.\n",
      "        Raises ValueError if either of the arguments are negative.\n",
      "    \n",
      "    pow(x, y, /)\n",
      "        Return x**y (x to the power of y).\n",
      "    \n",
      "    prod(iterable, /, *, start=1)\n",
      "        Calculate the product of all the elements in the input iterable.\n",
      "        \n",
      "        The default start value for the product is 1.\n",
      "        \n",
      "        When the iterable is empty, return the start value.  This function is\n",
      "        intended specifically for use with numeric values and may reject\n",
      "        non-numeric types.\n",
      "    \n",
      "    radians(x, /)\n",
      "        Convert angle x from degrees to radians.\n",
      "    \n",
      "    remainder(x, y, /)\n",
      "        Difference between x and the closest integer multiple of y.\n",
      "        \n",
      "        Return x - n*y where n*y is the closest integer multiple of y.\n",
      "        In the case where x is exactly halfway between two multiples of\n",
      "        y, the nearest even value of n is used. The result is always exact.\n",
      "    \n",
      "    sin(x, /)\n",
      "        Return the sine of x (measured in radians).\n",
      "    \n",
      "    sinh(x, /)\n",
      "        Return the hyperbolic sine of x.\n",
      "    \n",
      "    sqrt(x, /)\n",
      "        Return the square root of x.\n",
      "    \n",
      "    tan(x, /)\n",
      "        Return the tangent of x (measured in radians).\n",
      "    \n",
      "    tanh(x, /)\n",
      "        Return the hyperbolic tangent of x.\n",
      "    \n",
      "    trunc(x, /)\n",
      "        Truncates the Real x to the nearest Integral toward 0.\n",
      "        \n",
      "        Uses the __trunc__ magic method.\n",
      "    \n",
      "    ulp(x, /)\n",
      "        Return the value of the least significant bit of the float x.\n",
      "\n",
      "DATA\n",
      "    e = 2.718281828459045\n",
      "    inf = inf\n",
      "    nan = nan\n",
      "    pi = 3.141592653589793\n",
      "    tau = 6.283185307179586\n",
      "\n",
      "FILE\n",
      "    (built-in)\n",
      "\n",
      "\n"
     ]
    }
   ],
   "source": [
    "# see detailed docs\n",
    "help(math)"
   ]
  },
  {
   "cell_type": "code",
   "execution_count": 27,
   "id": "74a97481-e586-46bf-8476-1df68add164c",
   "metadata": {},
   "outputs": [
    {
     "data": {
      "text/plain": [
       "3.141592653589793"
      ]
     },
     "execution_count": 27,
     "metadata": {},
     "output_type": "execute_result"
    }
   ],
   "source": [
    "# we can call any function from modyle with . notation\n",
    "math.pi"
   ]
  },
  {
   "cell_type": "code",
   "execution_count": 31,
   "id": "b4bb2d9d-888b-4261-b921-e4ba75730f60",
   "metadata": {},
   "outputs": [
    {
     "name": "stdout",
     "output_type": "stream",
     "text": [
      "62.83185307179586\n"
     ]
    }
   ],
   "source": [
    "# Example:\n",
    "# What is the perimeter of a circle\n",
    "# Perimeter = 2 * pi * r\n",
    "r = 10\n",
    "perimeter = 2 * math.pi * r\n",
    "print (perimeter)"
   ]
  },
  {
   "cell_type": "code",
   "execution_count": 38,
   "id": "c2b79870-5ddd-4a7a-bf6d-2db41a6452b7",
   "metadata": {},
   "outputs": [
    {
     "name": "stdout",
     "output_type": "stream",
     "text": [
      "0.5235987755982988\n"
     ]
    }
   ],
   "source": [
    "# Example\n",
    "# Calculate the sine of 30 degrees\n",
    "degree = 30\n",
    "\n",
    "# calculate radian\n",
    "radian = math.radians(degree)\n",
    "print(radian)"
   ]
  },
  {
   "cell_type": "code",
   "execution_count": 40,
   "id": "be0c181c-20a1-41f6-af93-c60dd483cd2a",
   "metadata": {},
   "outputs": [
    {
     "data": {
      "text/plain": [
       "-0.9880316240928618"
      ]
     },
     "execution_count": 40,
     "metadata": {},
     "output_type": "execute_result"
    }
   ],
   "source": [
    "# False usage of function\n",
    "sine = math.sin(degree)\n",
    "sine"
   ]
  },
  {
   "cell_type": "code",
   "execution_count": 41,
   "id": "0f75cc12-d1e9-4c51-9b5d-afb002d2d7d1",
   "metadata": {},
   "outputs": [
    {
     "name": "stdout",
     "output_type": "stream",
     "text": [
      "Help on built-in function sin in module math:\n",
      "\n",
      "sin(x, /)\n",
      "    Return the sine of x (measured in radians).\n",
      "\n"
     ]
    }
   ],
   "source": [
    "help(math.sin)"
   ]
  },
  {
   "cell_type": "code",
   "execution_count": 42,
   "id": "ce5b7848-ad14-4dd9-8426-b3691e0a60e3",
   "metadata": {},
   "outputs": [
    {
     "data": {
      "text/plain": [
       "0.49999999999999994"
      ]
     },
     "execution_count": 42,
     "metadata": {},
     "output_type": "execute_result"
    }
   ],
   "source": [
    "# Correct usage of function\n",
    "sine = math.sin(radian)\n",
    "sine"
   ]
  },
  {
   "cell_type": "markdown",
   "id": "c823991a-e753-453c-9642-132b1b6d2216",
   "metadata": {},
   "source": [
    "**Composition of Functions**"
   ]
  },
  {
   "cell_type": "code",
   "execution_count": 45,
   "id": "11fa3ca9-d833-4752-a847-554bb160ac67",
   "metadata": {},
   "outputs": [
    {
     "data": {
      "text/plain": [
       "0.49999999999999994"
      ]
     },
     "execution_count": 45,
     "metadata": {},
     "output_type": "execute_result"
    }
   ],
   "source": [
    "# Chaining func\n",
    "\n",
    "degree = 30\n",
    "sine = math.sin(math.radians(degree))\n",
    "sine"
   ]
  },
  {
   "cell_type": "markdown",
   "id": "eebf53e5-652c-44b8-a317-433102bd37e5",
   "metadata": {},
   "source": [
    "# Defining Functions"
   ]
  },
  {
   "cell_type": "code",
   "execution_count": 1,
   "id": "9fd31860-d8b9-453f-add9-ff5e19b44fb8",
   "metadata": {},
   "outputs": [],
   "source": [
    "# without parameters\n",
    "def funciton_name():\n",
    "    # print line\n",
    "    print(\"F func\");\n",
    "    "
   ]
  },
  {
   "cell_type": "code",
   "execution_count": 3,
   "id": "533d4228-c5b9-4752-9b04-13b53a5f5a39",
   "metadata": {},
   "outputs": [
    {
     "name": "stdout",
     "output_type": "stream",
     "text": [
      "F func\n"
     ]
    }
   ],
   "source": [
    "# call\n",
    "funciton_name();\n"
   ]
  },
  {
   "cell_type": "markdown",
   "id": "fa2e72a4-cb1e-46fd-95ca-f99466cb0e71",
   "metadata": {},
   "source": [
    "**Indent:** Python uses indent for scoping\n",
    "    * indent: tab\n",
    "    * indent 4 space\n",
    "    "
   ]
  },
  {
   "cell_type": "code",
   "execution_count": 6,
   "id": "b876655d-4636-4a38-a726-43b7c6bb6e6d",
   "metadata": {},
   "outputs": [
    {
     "name": "stdout",
     "output_type": "stream",
     "text": [
      "Name: John\n",
      "Age: 24\n",
      "Language: Python\n"
     ]
    }
   ],
   "source": [
    "# student data \n",
    "print(\"Name: John\")\n",
    "print(\"Age: 24\")\n",
    "print(\"Language: Python\")"
   ]
  },
  {
   "cell_type": "code",
   "execution_count": 8,
   "id": "50594366-79b9-4ce5-a76a-b819e5615cbe",
   "metadata": {},
   "outputs": [],
   "source": [
    "#Define a function for student name:\n",
    "\n",
    "def student_name():\n",
    "    print(\"Name: John\")\n",
    "    "
   ]
  },
  {
   "cell_type": "code",
   "execution_count": 9,
   "id": "11959dbb-ce63-4173-85f6-aafe01c33fb4",
   "metadata": {},
   "outputs": [
    {
     "name": "stdout",
     "output_type": "stream",
     "text": [
      "Name: John\n"
     ]
    }
   ],
   "source": [
    "student_name()"
   ]
  },
  {
   "cell_type": "code",
   "execution_count": 10,
   "id": "93628e2c-c7fa-4768-85c1-216482f3f39f",
   "metadata": {},
   "outputs": [],
   "source": [
    "def student_age():\n",
    "    print(\"Age: 24\")"
   ]
  },
  {
   "cell_type": "code",
   "execution_count": 11,
   "id": "6d0c7b24-1463-4e65-9d02-1a2024fdcf45",
   "metadata": {},
   "outputs": [
    {
     "name": "stdout",
     "output_type": "stream",
     "text": [
      "Age: 24\n"
     ]
    }
   ],
   "source": [
    "student_age()\n"
   ]
  },
  {
   "cell_type": "code",
   "execution_count": 12,
   "id": "ebbabf63-3ea0-419f-ab77-486de96cbc75",
   "metadata": {},
   "outputs": [],
   "source": [
    "def student_language():\n",
    "    print(\"Language: Python\")"
   ]
  },
  {
   "cell_type": "code",
   "execution_count": 13,
   "id": "ed09308b-444f-491b-b317-3a73118082c1",
   "metadata": {},
   "outputs": [
    {
     "name": "stdout",
     "output_type": "stream",
     "text": [
      "Language: Python\n"
     ]
    }
   ],
   "source": [
    "student_language()"
   ]
  },
  {
   "cell_type": "code",
   "execution_count": 14,
   "id": "76278db4-e7e9-4a42-9712-403d4ebbe55c",
   "metadata": {},
   "outputs": [
    {
     "name": "stdout",
     "output_type": "stream",
     "text": [
      "Name: John\n",
      "Age: 24\n",
      "Language: Python\n"
     ]
    }
   ],
   "source": [
    "student_name()\n",
    "student_age()\n",
    "student_language()"
   ]
  },
  {
   "cell_type": "code",
   "execution_count": 15,
   "id": "98ce7335-8f1c-4db9-8628-9e07edffc47c",
   "metadata": {},
   "outputs": [],
   "source": [
    "# one function to call all three"
   ]
  },
  {
   "cell_type": "code",
   "execution_count": 17,
   "id": "0026ccd0-9f71-4a03-9542-66ce132df3fe",
   "metadata": {},
   "outputs": [],
   "source": [
    "def student_data():\n",
    "    student_name()\n",
    "    student_age()\n",
    "    student_language()"
   ]
  },
  {
   "cell_type": "code",
   "execution_count": 18,
   "id": "b8cafc29-6c11-41ce-b891-87b21221932e",
   "metadata": {},
   "outputs": [
    {
     "name": "stdout",
     "output_type": "stream",
     "text": [
      "Name: John\n",
      "Age: 24\n",
      "Language: Python\n"
     ]
    }
   ],
   "source": [
    "student_data()\n"
   ]
  },
  {
   "cell_type": "code",
   "execution_count": 19,
   "id": "2f6ece98-13b9-4fae-a5e0-a2fb19d541b6",
   "metadata": {},
   "outputs": [],
   "source": [
    "# We want to print students name and lastname separately.\n",
    "\n",
    "# Peter \n",
    "# Parker"
   ]
  },
  {
   "cell_type": "code",
   "execution_count": 20,
   "id": "887e2098-b680-4c46-9610-a17b9eaaf875",
   "metadata": {},
   "outputs": [],
   "source": [
    "# create 2 sep func\n",
    "def student_firstname():\n",
    "    print(\"Name: Peter\")"
   ]
  },
  {
   "cell_type": "code",
   "execution_count": 21,
   "id": "b0f2eed6-dd2b-459d-97a3-631d95848484",
   "metadata": {},
   "outputs": [],
   "source": [
    "def student_lastname():\n",
    "    print(\"Lastname: Parker\")\n",
    "    "
   ]
  },
  {
   "cell_type": "code",
   "execution_count": 22,
   "id": "9813233f-c9da-4a7d-af22-6ecfe611d424",
   "metadata": {},
   "outputs": [],
   "source": [
    "def student_name():\n",
    "    student_firstname()\n",
    "    student_lastname()"
   ]
  },
  {
   "cell_type": "code",
   "execution_count": 23,
   "id": "288ccd5c-6126-46c6-a268-bb58fa4df3bd",
   "metadata": {},
   "outputs": [
    {
     "name": "stdout",
     "output_type": "stream",
     "text": [
      "Name: Peter\n",
      "Lastname: Parker\n"
     ]
    }
   ],
   "source": [
    "student_name()\n"
   ]
  },
  {
   "cell_type": "markdown",
   "id": "f4a1c701-4ec2-4aaa-b1ae-7adbf81e1d4c",
   "metadata": {},
   "source": [
    "### Parameters (arguments)"
   ]
  },
  {
   "cell_type": "code",
   "execution_count": 25,
   "id": "d74f6258-3cbd-4ac8-93da-9873b1608894",
   "metadata": {},
   "outputs": [],
   "source": [
    "# define a function which takes a parameter\n",
    "def print_square(number):\n",
    "    #get the square\n",
    "    sqr = number**2\n",
    "    print(sqr)"
   ]
  },
  {
   "cell_type": "code",
   "execution_count": 27,
   "id": "1a9c8447-af1f-4ba9-bbbb-5339ceccd6b5",
   "metadata": {},
   "outputs": [
    {
     "name": "stdout",
     "output_type": "stream",
     "text": [
      "4\n"
     ]
    }
   ],
   "source": [
    "print_square(2)"
   ]
  },
  {
   "cell_type": "code",
   "execution_count": 28,
   "id": "dbf7bf9c-b9dc-4bda-b2f9-53a93cc6f8ed",
   "metadata": {},
   "outputs": [],
   "source": [
    "#Example 2 params\n",
    "def area_of_recangle(short, long):\n",
    "    area= short*long\n",
    "    print(area)"
   ]
  },
  {
   "cell_type": "code",
   "execution_count": 29,
   "id": "fadcabf6-02e6-4960-865d-46f7b020c9a4",
   "metadata": {},
   "outputs": [
    {
     "name": "stdout",
     "output_type": "stream",
     "text": [
      "6\n"
     ]
    }
   ],
   "source": [
    "area_of_recangle(2, 3)"
   ]
  },
  {
   "cell_type": "code",
   "execution_count": 30,
   "id": "f1124fb0-26bd-4864-b140-90c0b0eeb9a9",
   "metadata": {},
   "outputs": [
    {
     "name": "stdout",
     "output_type": "stream",
     "text": [
      "24\n"
     ]
    }
   ],
   "source": [
    "s = 4\n",
    "u = 6\n",
    "area_of_recangle(s, u)"
   ]
  },
  {
   "cell_type": "code",
   "execution_count": 44,
   "id": "4e64497a-9a3d-4dc7-8307-a0e802cb72b3",
   "metadata": {},
   "outputs": [],
   "source": [
    "def student_firstname(firstname):\n",
    "    print(\"Name: \" + firstname + \" \")\n",
    "    \n",
    "def student_data(firstname, lastname, age, language):\n",
    "    student_firstname(firstname)\n",
    "    student_lastname(lastname)\n",
    "    student_age(age)\n",
    "    student_lang(language)"
   ]
  },
  {
   "cell_type": "code",
   "execution_count": 32,
   "id": "e5196418-15fa-48aa-98f0-6d01f85e36ad",
   "metadata": {},
   "outputs": [],
   "source": [
    "first = \"Klark\"\n",
    "last = \"Kent\"\n",
    "age = 28\n",
    "lang = \"Python\""
   ]
  },
  {
   "cell_type": "code",
   "execution_count": 45,
   "id": "7d403815-f463-4f60-8c2c-325fa6db61cb",
   "metadata": {},
   "outputs": [
    {
     "name": "stdout",
     "output_type": "stream",
     "text": [
      "Name: Klark \n",
      "Lastname: Kent \n",
      "Name: 28 \n",
      "Name: Python \n"
     ]
    }
   ],
   "source": [
    "student_data(first, last, age, lang)"
   ]
  },
  {
   "cell_type": "code",
   "execution_count": 34,
   "id": "00a9dc96-cedc-49ca-95b2-c941e2b3981e",
   "metadata": {},
   "outputs": [],
   "source": [
    "def student_lastname(lastname):\n",
    "    print(\"Lastname: \"+ lastname + \" \")"
   ]
  },
  {
   "cell_type": "code",
   "execution_count": 42,
   "id": "15e86d01-b168-491c-b989-26d78b79b31f",
   "metadata": {},
   "outputs": [
    {
     "name": "stdout",
     "output_type": "stream",
     "text": [
      "Name: Klark \n",
      "Lastname: Kent \n",
      "Name: 28 \n"
     ]
    }
   ],
   "source": [
    "student_data(first, last, age, lang)"
   ]
  },
  {
   "cell_type": "code",
   "execution_count": 40,
   "id": "91e10ade-9237-4888-9ff2-c9f6eb1599b3",
   "metadata": {},
   "outputs": [],
   "source": [
    "def student_age(age):\n",
    "    print(\"Name: \" + str(age) + \" \")"
   ]
  },
  {
   "cell_type": "code",
   "execution_count": 43,
   "id": "98dd4524-730d-449c-9938-e70dca70ffe8",
   "metadata": {},
   "outputs": [],
   "source": [
    "def student_lang(language):\n",
    "    print(\"Name: \" + language + \" \")"
   ]
  },
  {
   "cell_type": "markdown",
   "id": "7c6c9179-7884-4f4c-b4b4-d9c85d15f246",
   "metadata": {},
   "source": [
    "### Scope"
   ]
  },
  {
   "cell_type": "markdown",
   "id": "5ba99eca-522e-4e59-9924-34c964bee0d4",
   "metadata": {},
   "source": [
    "Scope is the region where the variables exist - indentation"
   ]
  },
  {
   "cell_type": "code",
   "execution_count": 53,
   "id": "464f1419-eb0e-4e35-b437-3de414709da4",
   "metadata": {},
   "outputs": [],
   "source": [
    "# function scope\n",
    "def scope_fn():\n",
    "    scope_var = 100\n",
    "    print(scope_var)\n",
    "    \n",
    "    s2 = scope_var * 2\n",
    "    print(s2)"
   ]
  },
  {
   "cell_type": "code",
   "execution_count": 54,
   "id": "f24803a9-e558-4f15-9e8e-9da9dddceafe",
   "metadata": {},
   "outputs": [
    {
     "name": "stdout",
     "output_type": "stream",
     "text": [
      "100\n",
      "200\n"
     ]
    }
   ],
   "source": [
    "scope_fn()\n"
   ]
  },
  {
   "cell_type": "code",
   "execution_count": 52,
   "id": "4c911968-9309-41f5-abe8-8deb946cf695",
   "metadata": {},
   "outputs": [
    {
     "ename": "NameError",
     "evalue": "name 'scope_var' is not defined",
     "output_type": "error",
     "traceback": [
      "\u001b[1;31m---------------------------------------------------------------------------\u001b[0m",
      "\u001b[1;31mNameError\u001b[0m                                 Traceback (most recent call last)",
      "Input \u001b[1;32mIn [52]\u001b[0m, in \u001b[0;36m<cell line: 2>\u001b[1;34m()\u001b[0m\n\u001b[0;32m      1\u001b[0m \u001b[38;5;66;03m# reach the variable  inside the function\u001b[39;00m\n\u001b[1;32m----> 2\u001b[0m \u001b[38;5;28mprint\u001b[39m(\u001b[43mscope_var\u001b[49m)\n",
      "\u001b[1;31mNameError\u001b[0m: name 'scope_var' is not defined"
     ]
    }
   ],
   "source": [
    "# reach the variable  inside the function\n",
    "print(scope_var)"
   ]
  },
  {
   "cell_type": "code",
   "execution_count": 55,
   "id": "7035ff06-a786-4ef2-889a-3005fbb2dd1f",
   "metadata": {},
   "outputs": [],
   "source": [
    "# global scope\n",
    "\n",
    "short = 40\n",
    "long = 60"
   ]
  },
  {
   "cell_type": "code",
   "execution_count": 56,
   "id": "0920396e-0889-49b5-8119-669eef7654e2",
   "metadata": {},
   "outputs": [
    {
     "data": {
      "text/plain": [
       "40"
      ]
     },
     "execution_count": 56,
     "metadata": {},
     "output_type": "execute_result"
    }
   ],
   "source": [
    "short"
   ]
  },
  {
   "cell_type": "code",
   "execution_count": 61,
   "id": "2800e2e0-3eb1-4f4b-8861-e1c38cb97297",
   "metadata": {},
   "outputs": [],
   "source": [
    "#define a function to use global scope variables\n",
    "\n",
    "def perimiter():\n",
    "    area_of_rect = short* long\n",
    "    print(area_of_rect)"
   ]
  },
  {
   "cell_type": "code",
   "execution_count": 62,
   "id": "4093b1f2-387e-4002-9906-095694584cad",
   "metadata": {},
   "outputs": [
    {
     "name": "stdout",
     "output_type": "stream",
     "text": [
      "2400\n"
     ]
    }
   ],
   "source": [
    "perimiter()"
   ]
  },
  {
   "cell_type": "code",
   "execution_count": 63,
   "id": "bd62b48f-a08c-4870-b75e-93642c73595b",
   "metadata": {},
   "outputs": [],
   "source": [
    "# try to change global varbs\n",
    "def change_globals():\n",
    "    short = 50\n",
    "    print(short)"
   ]
  },
  {
   "cell_type": "code",
   "execution_count": 64,
   "id": "177c01d9-e8e7-4b87-9676-1926bf8efa9b",
   "metadata": {},
   "outputs": [
    {
     "name": "stdout",
     "output_type": "stream",
     "text": [
      "50\n"
     ]
    }
   ],
   "source": [
    "change_globals()"
   ]
  },
  {
   "cell_type": "code",
   "execution_count": 65,
   "id": "6ff777e6-0e15-45da-a9ce-ce44f988b4d6",
   "metadata": {},
   "outputs": [
    {
     "data": {
      "text/plain": [
       "40"
      ]
     },
     "execution_count": 65,
     "metadata": {},
     "output_type": "execute_result"
    }
   ],
   "source": [
    "short"
   ]
  },
  {
   "cell_type": "code",
   "execution_count": 66,
   "id": "c89fcb64-3756-40f5-8fc8-c83d6124971e",
   "metadata": {},
   "outputs": [],
   "source": [
    "# if you want to change a global variable then global keyword\n",
    "\n",
    "def change_globals():\n",
    "    global short\n",
    "    short = 5000\n",
    "    print(short)"
   ]
  },
  {
   "cell_type": "code",
   "execution_count": 67,
   "id": "9401d229-ca0d-4c95-a63e-6f443cb0ebdc",
   "metadata": {},
   "outputs": [
    {
     "name": "stdout",
     "output_type": "stream",
     "text": [
      "5000\n"
     ]
    }
   ],
   "source": [
    "change_globals()"
   ]
  },
  {
   "cell_type": "code",
   "execution_count": 68,
   "id": "b9fd60d6-a1f3-42c6-b5f0-25905c9b7b73",
   "metadata": {},
   "outputs": [
    {
     "data": {
      "text/plain": [
       "5000"
      ]
     },
     "execution_count": 68,
     "metadata": {},
     "output_type": "execute_result"
    }
   ],
   "source": [
    "short"
   ]
  },
  {
   "cell_type": "markdown",
   "id": "03eed66a-6dd7-4435-99e5-f4d66af5d784",
   "metadata": {},
   "source": [
    "### Return"
   ]
  },
  {
   "cell_type": "markdown",
   "id": "29ba54d0-21f5-4b2e-acc0-7cdfadef60d0",
   "metadata": {},
   "source": [
    "A function can return a value return "
   ]
  },
  {
   "cell_type": "code",
   "execution_count": 70,
   "id": "e7743c6e-a14c-4250-9080-c2e52089561c",
   "metadata": {},
   "outputs": [],
   "source": [
    "def cube(n):\n",
    "    n_cube = n**3\n",
    "    return n_cube"
   ]
  },
  {
   "cell_type": "code",
   "execution_count": 71,
   "id": "9382bdf5-264a-4652-a879-6a648c299a0e",
   "metadata": {},
   "outputs": [],
   "source": [
    "num = 5\n",
    "cube_of_num = cube(5)"
   ]
  },
  {
   "cell_type": "code",
   "execution_count": 72,
   "id": "afa07cc1-5936-4491-9d9d-6aaf4cfd843a",
   "metadata": {},
   "outputs": [
    {
     "name": "stdout",
     "output_type": "stream",
     "text": [
      "125\n"
     ]
    }
   ],
   "source": [
    "print(cube_of_num)"
   ]
  },
  {
   "cell_type": "code",
   "execution_count": 73,
   "id": "8363a0d1-558d-43e5-a904-b4a657c13c01",
   "metadata": {},
   "outputs": [],
   "source": [
    "n = 4\n",
    "returned_value = cube(n)"
   ]
  },
  {
   "cell_type": "code",
   "execution_count": 74,
   "id": "bcf8cab6-d044-41e5-b1c8-2016f02d74a2",
   "metadata": {},
   "outputs": [
    {
     "data": {
      "text/plain": [
       "64"
      ]
     },
     "execution_count": 74,
     "metadata": {},
     "output_type": "execute_result"
    }
   ],
   "source": [
    "returned_value"
   ]
  },
  {
   "cell_type": "code",
   "execution_count": 75,
   "id": "789eceef-0f68-4aff-b211-573928e6036c",
   "metadata": {},
   "outputs": [
    {
     "name": "stdout",
     "output_type": "stream",
     "text": [
      "27\n"
     ]
    }
   ],
   "source": [
    "print(cube(3))"
   ]
  },
  {
   "cell_type": "markdown",
   "id": "bde6c65e-5c7a-4b86-84a8-b8322ba785ff",
   "metadata": {},
   "source": [
    "Functions which do not return a value -> void"
   ]
  },
  {
   "cell_type": "markdown",
   "id": "c144b368-e707-4fd1-aac8-585aa9e47e8a",
   "metadata": {},
   "source": [
    "### Docstring documentation"
   ]
  },
  {
   "cell_type": "code",
   "execution_count": 76,
   "id": "d655c86d-031e-4ecc-aee5-8822a6a117ab",
   "metadata": {},
   "outputs": [],
   "source": [
    "# get help"
   ]
  },
  {
   "cell_type": "code",
   "execution_count": 77,
   "id": "1b362ce6-c480-49fb-904a-b3778427c33b",
   "metadata": {},
   "outputs": [
    {
     "name": "stdout",
     "output_type": "stream",
     "text": [
      "Help on function cube in module __main__:\n",
      "\n",
      "cube(n)\n",
      "\n"
     ]
    }
   ],
   "source": [
    "help(cube)"
   ]
  },
  {
   "cell_type": "code",
   "execution_count": 78,
   "id": "735ed336-717d-4f42-8cf0-fa701679428f",
   "metadata": {},
   "outputs": [
    {
     "data": {
      "text/plain": [
       "\u001b[1;31mSignature:\u001b[0m \u001b[0mcube\u001b[0m\u001b[1;33m(\u001b[0m\u001b[0mn\u001b[0m\u001b[1;33m)\u001b[0m\u001b[1;33m\u001b[0m\u001b[1;33m\u001b[0m\u001b[0m\n",
       "\u001b[1;31mDocstring:\u001b[0m <no docstring>\n",
       "\u001b[1;31mFile:\u001b[0m      c:\\users\\jczab\\appdata\\local\\temp\\ipykernel_21080\\4291742505.py\n",
       "\u001b[1;31mType:\u001b[0m      function\n"
      ]
     },
     "metadata": {},
     "output_type": "display_data"
    }
   ],
   "source": [
    "# more detailed help ?\n",
    "cube?"
   ]
  },
  {
   "cell_type": "code",
   "execution_count": 79,
   "id": "f797f81d-40db-4742-9743-a4cbfc0b882c",
   "metadata": {},
   "outputs": [],
   "source": [
    "# most detailed ??"
   ]
  },
  {
   "cell_type": "code",
   "execution_count": 80,
   "id": "df3b8f3e-917c-44a5-8a25-af46ee223f5f",
   "metadata": {},
   "outputs": [
    {
     "data": {
      "text/plain": [
       "\u001b[1;31mSignature:\u001b[0m \u001b[0mcube\u001b[0m\u001b[1;33m(\u001b[0m\u001b[0mn\u001b[0m\u001b[1;33m)\u001b[0m\u001b[1;33m\u001b[0m\u001b[1;33m\u001b[0m\u001b[0m\n",
       "\u001b[1;31mDocstring:\u001b[0m <no docstring>\n",
       "\u001b[1;31mSource:\u001b[0m   \n",
       "\u001b[1;32mdef\u001b[0m \u001b[0mcube\u001b[0m\u001b[1;33m(\u001b[0m\u001b[0mn\u001b[0m\u001b[1;33m)\u001b[0m\u001b[1;33m:\u001b[0m\u001b[1;33m\n",
       "\u001b[0m    \u001b[0mn_cube\u001b[0m \u001b[1;33m=\u001b[0m \u001b[0mn\u001b[0m\u001b[1;33m**\u001b[0m\u001b[1;36m3\u001b[0m\u001b[1;33m\n",
       "\u001b[0m    \u001b[1;32mreturn\u001b[0m \u001b[0mn_cube\u001b[0m\u001b[1;33m\u001b[0m\u001b[1;33m\u001b[0m\u001b[0m\n",
       "\u001b[1;31mFile:\u001b[0m      c:\\users\\jczab\\appdata\\local\\temp\\ipykernel_21080\\4291742505.py\n",
       "\u001b[1;31mType:\u001b[0m      function\n"
      ]
     },
     "metadata": {},
     "output_type": "display_data"
    }
   ],
   "source": [
    "cube??\n"
   ]
  },
  {
   "cell_type": "code",
   "execution_count": 82,
   "id": "389f0276-3662-4f36-bf97-4ba47f8d1173",
   "metadata": {},
   "outputs": [],
   "source": [
    "# define a function with docstring\n",
    "import math\n",
    "\n",
    "def get_power(num, p):\n",
    "    \"\"\"\n",
    "        Calculates th p of num\n",
    "        Parameters: int num, p\n",
    "        Returns: the give power of the number\n",
    "    \"\"\"\n",
    "    \n",
    "    #calculate te power\n",
    "    \n",
    "    power = math.pow(num, p)\n",
    "    return power"
   ]
  },
  {
   "cell_type": "code",
   "execution_count": 83,
   "id": "5ce00d80-5562-4f38-a852-bc858bddafd2",
   "metadata": {},
   "outputs": [
    {
     "data": {
      "text/plain": [
       "\u001b[1;31mSignature:\u001b[0m \u001b[0mget_power\u001b[0m\u001b[1;33m(\u001b[0m\u001b[0mnum\u001b[0m\u001b[1;33m,\u001b[0m \u001b[0mp\u001b[0m\u001b[1;33m)\u001b[0m\u001b[1;33m\u001b[0m\u001b[1;33m\u001b[0m\u001b[0m\n",
       "\u001b[1;31mSource:\u001b[0m   \n",
       "\u001b[1;32mdef\u001b[0m \u001b[0mget_power\u001b[0m\u001b[1;33m(\u001b[0m\u001b[0mnum\u001b[0m\u001b[1;33m,\u001b[0m \u001b[0mp\u001b[0m\u001b[1;33m)\u001b[0m\u001b[1;33m:\u001b[0m\u001b[1;33m\n",
       "\u001b[0m    \u001b[1;34m\"\"\"\n",
       "        Calculates th p of num\n",
       "        Parameters: int num, p\n",
       "        Returns: the give power of the number\n",
       "    \"\"\"\u001b[0m\u001b[1;33m\n",
       "\u001b[0m    \u001b[1;33m\n",
       "\u001b[0m    \u001b[1;31m#calculate te power\u001b[0m\u001b[1;33m\n",
       "\u001b[0m    \u001b[1;33m\n",
       "\u001b[0m    \u001b[0mpower\u001b[0m \u001b[1;33m=\u001b[0m \u001b[0mmath\u001b[0m\u001b[1;33m.\u001b[0m\u001b[0mpow\u001b[0m\u001b[1;33m(\u001b[0m\u001b[0mnum\u001b[0m\u001b[1;33m,\u001b[0m \u001b[0mp\u001b[0m\u001b[1;33m)\u001b[0m\u001b[1;33m\n",
       "\u001b[0m    \u001b[1;32mreturn\u001b[0m \u001b[0mpower\u001b[0m\u001b[1;33m\u001b[0m\u001b[1;33m\u001b[0m\u001b[0m\n",
       "\u001b[1;31mFile:\u001b[0m      c:\\users\\jczab\\appdata\\local\\temp\\ipykernel_21080\\3071125516.py\n",
       "\u001b[1;31mType:\u001b[0m      function\n"
      ]
     },
     "metadata": {},
     "output_type": "display_data"
    }
   ],
   "source": [
    "get_power?\n",
    "get_power??"
   ]
  },
  {
   "cell_type": "code",
   "execution_count": 84,
   "id": "501c767d-277b-4aec-a86f-e8205d696ff5",
   "metadata": {},
   "outputs": [
    {
     "name": "stdout",
     "output_type": "stream",
     "text": [
      "Help on function get_power in module __main__:\n",
      "\n",
      "get_power(num, p)\n",
      "    Calculates th p of num\n",
      "    Parameters: int num, p\n",
      "    Returns: the give power of the number\n",
      "\n"
     ]
    }
   ],
   "source": [
    "# get help for this function\n",
    "# help()\n",
    "\n",
    "help(get_power)"
   ]
  },
  {
   "cell_type": "code",
   "execution_count": 85,
   "id": "611edd3a-841e-41ea-95ef-05e72955553b",
   "metadata": {},
   "outputs": [
    {
     "data": {
      "text/plain": [
       "\u001b[1;31mSignature:\u001b[0m \u001b[0mget_power\u001b[0m\u001b[1;33m(\u001b[0m\u001b[0mnum\u001b[0m\u001b[1;33m,\u001b[0m \u001b[0mp\u001b[0m\u001b[1;33m)\u001b[0m\u001b[1;33m\u001b[0m\u001b[1;33m\u001b[0m\u001b[0m\n",
       "\u001b[1;31mDocstring:\u001b[0m\n",
       "Calculates th p of num\n",
       "Parameters: int num, p\n",
       "Returns: the give power of the number\n",
       "\u001b[1;31mFile:\u001b[0m      c:\\users\\jczab\\appdata\\local\\temp\\ipykernel_21080\\3071125516.py\n",
       "\u001b[1;31mType:\u001b[0m      function\n"
      ]
     },
     "metadata": {},
     "output_type": "display_data"
    }
   ],
   "source": [
    "get_power?"
   ]
  },
  {
   "cell_type": "code",
   "execution_count": 86,
   "id": "84d75b0f-a6a3-4d6a-a587-e36b5123169d",
   "metadata": {},
   "outputs": [
    {
     "data": {
      "text/plain": [
       "\u001b[1;31mSignature:\u001b[0m \u001b[0mget_power\u001b[0m\u001b[1;33m(\u001b[0m\u001b[0mnum\u001b[0m\u001b[1;33m,\u001b[0m \u001b[0mp\u001b[0m\u001b[1;33m)\u001b[0m\u001b[1;33m\u001b[0m\u001b[1;33m\u001b[0m\u001b[0m\n",
       "\u001b[1;31mSource:\u001b[0m   \n",
       "\u001b[1;32mdef\u001b[0m \u001b[0mget_power\u001b[0m\u001b[1;33m(\u001b[0m\u001b[0mnum\u001b[0m\u001b[1;33m,\u001b[0m \u001b[0mp\u001b[0m\u001b[1;33m)\u001b[0m\u001b[1;33m:\u001b[0m\u001b[1;33m\n",
       "\u001b[0m    \u001b[1;34m\"\"\"\n",
       "        Calculates th p of num\n",
       "        Parameters: int num, p\n",
       "        Returns: the give power of the number\n",
       "    \"\"\"\u001b[0m\u001b[1;33m\n",
       "\u001b[0m    \u001b[1;33m\n",
       "\u001b[0m    \u001b[1;31m#calculate te power\u001b[0m\u001b[1;33m\n",
       "\u001b[0m    \u001b[1;33m\n",
       "\u001b[0m    \u001b[0mpower\u001b[0m \u001b[1;33m=\u001b[0m \u001b[0mmath\u001b[0m\u001b[1;33m.\u001b[0m\u001b[0mpow\u001b[0m\u001b[1;33m(\u001b[0m\u001b[0mnum\u001b[0m\u001b[1;33m,\u001b[0m \u001b[0mp\u001b[0m\u001b[1;33m)\u001b[0m\u001b[1;33m\n",
       "\u001b[0m    \u001b[1;32mreturn\u001b[0m \u001b[0mpower\u001b[0m\u001b[1;33m\u001b[0m\u001b[1;33m\u001b[0m\u001b[0m\n",
       "\u001b[1;31mFile:\u001b[0m      c:\\users\\jczab\\appdata\\local\\temp\\ipykernel_21080\\3071125516.py\n",
       "\u001b[1;31mType:\u001b[0m      function\n"
      ]
     },
     "metadata": {},
     "output_type": "display_data"
    }
   ],
   "source": [
    "get_power??"
   ]
  },
  {
   "cell_type": "markdown",
   "id": "51fcc687-9417-4200-af2c-49ef8d774f06",
   "metadata": {},
   "source": [
    "### Build in Mthods and attributes"
   ]
  },
  {
   "cell_type": "code",
   "execution_count": 87,
   "id": "bd2a75ba-747a-4d5f-bc3d-573303e4c3ca",
   "metadata": {},
   "outputs": [
    {
     "data": {
      "text/plain": [
       "'\\n        Calculates th p of num\\n        Parameters: int num, p\\n        Returns: the give power of the number\\n    '"
      ]
     },
     "execution_count": 87,
     "metadata": {},
     "output_type": "execute_result"
    }
   ],
   "source": [
    "# docstring\n",
    "get_power.__doc__"
   ]
  },
  {
   "cell_type": "code",
   "execution_count": 88,
   "id": "48f23b18-f971-4c8f-b300-a3e45e9a9afa",
   "metadata": {},
   "outputs": [
    {
     "name": "stdout",
     "output_type": "stream",
     "text": [
      "\n",
      "        Calculates th p of num\n",
      "        Parameters: int num, p\n",
      "        Returns: the give power of the number\n",
      "    \n"
     ]
    }
   ],
   "source": [
    "print(get_power.__doc__)"
   ]
  },
  {
   "cell_type": "code",
   "execution_count": 89,
   "id": "9d1ce971-3a48-42e6-a07f-38576c736fe3",
   "metadata": {},
   "outputs": [],
   "source": [
    "#dunder = duble underscores\n"
   ]
  },
  {
   "cell_type": "code",
   "execution_count": 90,
   "id": "b39e5299-1222-4494-bcc3-0d8c173c8057",
   "metadata": {},
   "outputs": [
    {
     "data": {
      "text/plain": [
       "'__main__'"
      ]
     },
     "execution_count": 90,
     "metadata": {},
     "output_type": "execute_result"
    }
   ],
   "source": [
    "get_power.__module__"
   ]
  },
  {
   "cell_type": "code",
   "execution_count": 91,
   "id": "20f71e56-3045-4a4b-b3b0-08346838a730",
   "metadata": {},
   "outputs": [
    {
     "data": {
      "text/plain": [
       "'get_power'"
      ]
     },
     "execution_count": 91,
     "metadata": {},
     "output_type": "execute_result"
    }
   ],
   "source": [
    "get_power.__name__"
   ]
  },
  {
   "cell_type": "code",
   "execution_count": null,
   "id": "7c7a9ed8-a929-4a11-b225-c3ad5a5d4111",
   "metadata": {},
   "outputs": [],
   "source": []
  }
 ],
 "metadata": {
  "kernelspec": {
   "display_name": "Python 3 (ipykernel)",
   "language": "python",
   "name": "python3"
  },
  "language_info": {
   "codemirror_mode": {
    "name": "ipython",
    "version": 3
   },
   "file_extension": ".py",
   "mimetype": "text/x-python",
   "name": "python",
   "nbconvert_exporter": "python",
   "pygments_lexer": "ipython3",
   "version": "3.9.12"
  }
 },
 "nbformat": 4,
 "nbformat_minor": 5
}
