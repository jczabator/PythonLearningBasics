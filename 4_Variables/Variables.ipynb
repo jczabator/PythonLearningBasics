{
 "cells": [
  {
   "cell_type": "markdown",
   "id": "26761eb8-3908-472e-8ce5-55c1e87b9482",
   "metadata": {
    "tags": []
   },
   "source": [
    "# Variables"
   ]
  },
  {
   "cell_type": "markdown",
   "id": "00fecf6b-c38a-497b-96ba-5de36e6dd6b0",
   "metadata": {},
   "source": [
    "## What is a variable?"
   ]
  },
  {
   "cell_type": "markdown",
   "id": "4b80e076-1fb9-49d4-a0ff-5aaaf7dd06c6",
   "metadata": {},
   "source": [
    "**Variable** is a name refering to a value."
   ]
  },
  {
   "cell_type": "markdown",
   "id": "a972dcab-2d01-41fe-a327-261e6fff5c92",
   "metadata": {},
   "source": [
    "It is the **name of the address** for that **value** in the memory."
   ]
  },
  {
   "cell_type": "markdown",
   "id": "a6bf799c-57fe-4951-b762-df00c1af39ed",
   "metadata": {},
   "source": [
    "**Assignment** creates a avariable and binds it to the given value.\n",
    "`=`"
   ]
  },
  {
   "cell_type": "code",
   "execution_count": 3,
   "id": "beaa5224-fc50-4f62-818c-497e475dfa25",
   "metadata": {},
   "outputs": [],
   "source": [
    "a = 12"
   ]
  },
  {
   "cell_type": "code",
   "execution_count": 4,
   "id": "a4005efb-ea53-4aec-828b-c48aa9d123a2",
   "metadata": {},
   "outputs": [
    {
     "data": {
      "text/plain": [
       "12"
      ]
     },
     "execution_count": 4,
     "metadata": {},
     "output_type": "execute_result"
    }
   ],
   "source": [
    "a"
   ]
  },
  {
   "cell_type": "code",
   "execution_count": 5,
   "id": "bd1b5bd7-3c83-44f8-b647-f5b602a0c53d",
   "metadata": {},
   "outputs": [],
   "source": [
    "info = \"Python name comes from Monthy Python and Holly Grail\""
   ]
  },
  {
   "cell_type": "code",
   "execution_count": 6,
   "id": "38472f18-5a10-4c8a-8912-6a7d3d45210c",
   "metadata": {},
   "outputs": [
    {
     "name": "stdout",
     "output_type": "stream",
     "text": [
      "Python name comes from Monthy Python and Holly Grail\n"
     ]
    }
   ],
   "source": [
    "print(info)"
   ]
  },
  {
   "cell_type": "code",
   "execution_count": 7,
   "id": "720b472a-6281-4cb0-97bf-53e18c51a435",
   "metadata": {},
   "outputs": [],
   "source": [
    "pi = 3.1415"
   ]
  },
  {
   "cell_type": "code",
   "execution_count": 8,
   "id": "8c5c19cb-28eb-43db-9f60-55c7de0c201f",
   "metadata": {},
   "outputs": [
    {
     "name": "stdout",
     "output_type": "stream",
     "text": [
      "3.1415\n"
     ]
    }
   ],
   "source": [
    "print(pi)"
   ]
  },
  {
   "cell_type": "code",
   "execution_count": 9,
   "id": "fc373dbe-aa1f-4254-8d6a-e3fa086b1c76",
   "metadata": {},
   "outputs": [],
   "source": [
    "n = 12"
   ]
  },
  {
   "cell_type": "code",
   "execution_count": 10,
   "id": "31d61ab6-aa07-4035-80a0-83c1e03f2ea8",
   "metadata": {},
   "outputs": [
    {
     "data": {
      "text/plain": [
       "12"
      ]
     },
     "execution_count": 10,
     "metadata": {},
     "output_type": "execute_result"
    }
   ],
   "source": [
    "n"
   ]
  },
  {
   "cell_type": "code",
   "execution_count": 11,
   "id": "9177f969-4080-4f92-bf60-d4d1cf053579",
   "metadata": {},
   "outputs": [
    {
     "data": {
      "text/plain": [
       "12"
      ]
     },
     "execution_count": 11,
     "metadata": {},
     "output_type": "execute_result"
    }
   ],
   "source": [
    "a"
   ]
  },
  {
   "cell_type": "code",
   "execution_count": 12,
   "id": "db399a9f-33f1-41ce-8a02-4693204aecae",
   "metadata": {},
   "outputs": [
    {
     "data": {
      "text/plain": [
       "'Python name comes from Monthy Python and Holly Grail'"
      ]
     },
     "execution_count": 12,
     "metadata": {},
     "output_type": "execute_result"
    }
   ],
   "source": [
    "info"
   ]
  },
  {
   "cell_type": "code",
   "execution_count": 13,
   "id": "18582703-79a1-4219-a0c3-d7704bc84739",
   "metadata": {},
   "outputs": [
    {
     "name": "stdout",
     "output_type": "stream",
     "text": [
      "12\n"
     ]
    }
   ],
   "source": [
    "print(n)"
   ]
  },
  {
   "cell_type": "code",
   "execution_count": 14,
   "id": "72720b6b-335f-4c5e-b9b6-f6756229afcc",
   "metadata": {},
   "outputs": [],
   "source": [
    "a = 1000"
   ]
  },
  {
   "cell_type": "code",
   "execution_count": 15,
   "id": "8cfe4409-d560-47fd-85ef-06822eecccba",
   "metadata": {},
   "outputs": [
    {
     "data": {
      "text/plain": [
       "1000"
      ]
     },
     "execution_count": 15,
     "metadata": {},
     "output_type": "execute_result"
    }
   ],
   "source": [
    "a"
   ]
  },
  {
   "cell_type": "code",
   "execution_count": 16,
   "id": "be475a33-ded3-4ed3-8957-5be0fe0e1987",
   "metadata": {},
   "outputs": [],
   "source": [
    "a = 3000"
   ]
  },
  {
   "cell_type": "code",
   "execution_count": 17,
   "id": "dfc1f0e5-ce5a-4545-bfba-58e789b36155",
   "metadata": {},
   "outputs": [
    {
     "data": {
      "text/plain": [
       "3000"
      ]
     },
     "execution_count": 17,
     "metadata": {},
     "output_type": "execute_result"
    }
   ],
   "source": [
    "a"
   ]
  },
  {
   "cell_type": "markdown",
   "id": "59c32850-71b9-4ee5-81ee-3b1d6469283b",
   "metadata": {},
   "source": [
    "# Variable Names"
   ]
  },
  {
   "cell_type": "markdown",
   "id": "79ec14b8-918f-49f8-b6a5-614e3730f2e3",
   "metadata": {},
   "source": [
    "In Python, Variable Names:\n",
    "* should be meaningful, self-explanatory\n",
    "* generaly we use snake_case\n",
    "\n",
    "avarage_car\n",
    "\n",
    "starting_index"
   ]
  },
  {
   "cell_type": "markdown",
   "id": "dd08363e-84ff-4439-8c17-f6d3de8d8dfa",
   "metadata": {},
   "source": [
    "Variable Names CAN NOT:\n",
    "* start with a number\n",
    "    * 1number\n",
    "    * 3_rd_position\n",
    "* include space\n",
    "    *avarage speed\n",
    "    \n",
    "* include special characters\n",
    "    * @, -, +, *, etc.\n",
    "    * @number\n",
    "    \n",
    "* include keywords\n",
    "    *and, for, return, True, if..."
   ]
  },
  {
   "cell_type": "code",
   "execution_count": 20,
   "id": "8e6969fc-038f-4225-930c-b5fddd36e3cb",
   "metadata": {},
   "outputs": [
    {
     "ename": "SyntaxError",
     "evalue": "invalid syntax (584984094.py, line 1)",
     "output_type": "error",
     "traceback": [
      "\u001b[1;36m  Input \u001b[1;32mIn [20]\u001b[1;36m\u001b[0m\n\u001b[1;33m    1number = 1234\u001b[0m\n\u001b[1;37m     ^\u001b[0m\n\u001b[1;31mSyntaxError\u001b[0m\u001b[1;31m:\u001b[0m invalid syntax\n"
     ]
    }
   ],
   "source": [
    "1number = 1234"
   ]
  },
  {
   "cell_type": "code",
   "execution_count": 21,
   "id": "a2809613-e3d0-4315-b797-2595cebf4f5b",
   "metadata": {},
   "outputs": [],
   "source": [
    "avarage_speed = 80"
   ]
  },
  {
   "cell_type": "code",
   "execution_count": 22,
   "id": "02519cf7-0a93-42ad-8a53-f235367d2fa9",
   "metadata": {},
   "outputs": [
    {
     "ename": "SyntaxError",
     "evalue": "invalid syntax (2188858926.py, line 1)",
     "output_type": "error",
     "traceback": [
      "\u001b[1;36m  Input \u001b[1;32mIn [22]\u001b[1;36m\u001b[0m\n\u001b[1;33m    avarage speed = 85\u001b[0m\n\u001b[1;37m            ^\u001b[0m\n\u001b[1;31mSyntaxError\u001b[0m\u001b[1;31m:\u001b[0m invalid syntax\n"
     ]
    }
   ],
   "source": [
    "avarage speed = 85"
   ]
  },
  {
   "cell_type": "code",
   "execution_count": 23,
   "id": "cb1114f8-bf4c-4934-851e-8c25cb7ad549",
   "metadata": {},
   "outputs": [
    {
     "ename": "SyntaxError",
     "evalue": "invalid syntax (2714986626.py, line 1)",
     "output_type": "error",
     "traceback": [
      "\u001b[1;36m  Input \u001b[1;32mIn [23]\u001b[1;36m\u001b[0m\n\u001b[1;33m    @tenth = 10\u001b[0m\n\u001b[1;37m           ^\u001b[0m\n\u001b[1;31mSyntaxError\u001b[0m\u001b[1;31m:\u001b[0m invalid syntax\n"
     ]
    }
   ],
   "source": [
    "@tenth = 10"
   ]
  },
  {
   "cell_type": "code",
   "execution_count": 24,
   "id": "c8cff54f-70de-4d12-a4a8-2d52cf8771fa",
   "metadata": {},
   "outputs": [
    {
     "ename": "SyntaxError",
     "evalue": "invalid syntax (2046953698.py, line 1)",
     "output_type": "error",
     "traceback": [
      "\u001b[1;36m  Input \u001b[1;32mIn [24]\u001b[1;36m\u001b[0m\n\u001b[1;33m    for = 4\u001b[0m\n\u001b[1;37m        ^\u001b[0m\n\u001b[1;31mSyntaxError\u001b[0m\u001b[1;31m:\u001b[0m invalid syntax\n"
     ]
    }
   ],
   "source": [
    "for = 4"
   ]
  },
  {
   "cell_type": "code",
   "execution_count": 25,
   "id": "af7f02d0-e7a8-49b0-abdf-090c81ea462c",
   "metadata": {},
   "outputs": [
    {
     "ename": "SyntaxError",
     "evalue": "starred assignment target must be in a list or tuple (1810212927.py, line 1)",
     "output_type": "error",
     "traceback": [
      "\u001b[1;36m  Input \u001b[1;32mIn [25]\u001b[1;36m\u001b[0m\n\u001b[1;33m    *a = 45\u001b[0m\n\u001b[1;37m    ^\u001b[0m\n\u001b[1;31mSyntaxError\u001b[0m\u001b[1;31m:\u001b[0m starred assignment target must be in a list or tuple\n"
     ]
    }
   ],
   "source": [
    "*a = 45"
   ]
  },
  {
   "cell_type": "markdown",
   "id": "d59fc9d8-b549-47f5-9f0e-77af27fec0ce",
   "metadata": {},
   "source": [
    "**Important:**\n",
    "In Python, **CAPITAL-small** letters are different.\n",
    "\n",
    "`Python is CASE SENSITIVE`"
   ]
  },
  {
   "cell_type": "code",
   "execution_count": 26,
   "id": "bb0fcd76-7070-4673-ac83-1602c64cfe10",
   "metadata": {},
   "outputs": [],
   "source": [
    "a = 10"
   ]
  },
  {
   "cell_type": "code",
   "execution_count": 27,
   "id": "9eff9c64-071c-4399-842a-1d782728d0db",
   "metadata": {},
   "outputs": [],
   "source": [
    "A = 45\n"
   ]
  },
  {
   "cell_type": "code",
   "execution_count": 28,
   "id": "c0779408-ac96-459a-ab77-712a7d4630e2",
   "metadata": {},
   "outputs": [
    {
     "name": "stdout",
     "output_type": "stream",
     "text": [
      "10\n"
     ]
    }
   ],
   "source": [
    "print(a)"
   ]
  },
  {
   "cell_type": "code",
   "execution_count": 29,
   "id": "8d01f0b3-e910-4247-8fae-589598e3c47d",
   "metadata": {},
   "outputs": [
    {
     "name": "stdout",
     "output_type": "stream",
     "text": [
      "45\n"
     ]
    }
   ],
   "source": [
    "print(A)"
   ]
  },
  {
   "cell_type": "markdown",
   "id": "dc07fefb-a432-4656-ae00-c2e78bc9ca1c",
   "metadata": {},
   "source": [
    "a is not equal to A in Python"
   ]
  },
  {
   "cell_type": "code",
   "execution_count": 30,
   "id": "e079e95d-0803-4ec4-a525-3eb616ef9d08",
   "metadata": {},
   "outputs": [],
   "source": [
    "num = 5"
   ]
  },
  {
   "cell_type": "code",
   "execution_count": 31,
   "id": "6ee333a9-d9bf-426d-89e0-72c6e4ff8ffe",
   "metadata": {},
   "outputs": [],
   "source": [
    "Num = 12"
   ]
  },
  {
   "cell_type": "code",
   "execution_count": 32,
   "id": "39f7d08b-f379-49a4-8c5b-a3098b452df4",
   "metadata": {},
   "outputs": [
    {
     "name": "stdout",
     "output_type": "stream",
     "text": [
      "5\n"
     ]
    }
   ],
   "source": [
    "print(num)"
   ]
  },
  {
   "cell_type": "markdown",
   "id": "9081b57e-e669-4d2e-be1b-c39f71b2522f",
   "metadata": {},
   "source": [
    "**Unicode Characters:**\n",
    "\n",
    "Try not to use Unicode Characters in variable names\n",
    "\n",
    "Only use English Alphabeth (ASCII)."
   ]
  },
  {
   "cell_type": "code",
   "execution_count": 34,
   "id": "8c25da95-25aa-4ad1-abb4-1b4e949ac471",
   "metadata": {},
   "outputs": [],
   "source": [
    "Ω_omega = 80"
   ]
  },
  {
   "cell_type": "code",
   "execution_count": 35,
   "id": "af4fda16-9834-4abe-ad98-c5c030c8ff57",
   "metadata": {},
   "outputs": [
    {
     "name": "stdout",
     "output_type": "stream",
     "text": [
      "80\n"
     ]
    }
   ],
   "source": [
    "omega = 80\n",
    "print(omega)\n"
   ]
  },
  {
   "cell_type": "markdown",
   "id": "9be91546-89ba-4cee-a9bc-bd0896e5a3bf",
   "metadata": {},
   "source": [
    "## Python Data Types"
   ]
  },
  {
   "cell_type": "markdown",
   "id": "d9aa8e6d-4715-4b8b-a44f-141a80d353ec",
   "metadata": {},
   "source": [
    "In Python Data Types are:\n",
    "    \n",
    "* Text Type: **str**\n",
    "* Numeric Types: **int, float, complex**\n",
    "* Sequence Types: **list, tuple, range**\n",
    "* Mapping Type: **dict**\n",
    "* Set Types: **set, frozenset**\n",
    "* Boolean Type: **bool**\n",
    "* Binary Types: **bytes, bytearray, memoryview**"
   ]
  },
  {
   "cell_type": "markdown",
   "id": "9c416636-11a5-4558-869a-e04948083072",
   "metadata": {},
   "source": [
    "To get the type of a variable `type()`"
   ]
  },
  {
   "cell_type": "code",
   "execution_count": 38,
   "id": "956ce2cc-0909-4227-9ffc-8012fdfe4db7",
   "metadata": {},
   "outputs": [],
   "source": [
    "text = \"This is a string\""
   ]
  },
  {
   "cell_type": "code",
   "execution_count": 39,
   "id": "07e2fb86-2cff-4cd7-9f5f-13a4ee66268a",
   "metadata": {},
   "outputs": [
    {
     "data": {
      "text/plain": [
       "str"
      ]
     },
     "execution_count": 39,
     "metadata": {},
     "output_type": "execute_result"
    }
   ],
   "source": [
    "type(text)"
   ]
  },
  {
   "cell_type": "code",
   "execution_count": 40,
   "id": "a3a7f85b-14d3-4203-b59c-21b38a77b4c2",
   "metadata": {},
   "outputs": [
    {
     "data": {
      "text/plain": [
       "int"
      ]
     },
     "execution_count": 40,
     "metadata": {},
     "output_type": "execute_result"
    }
   ],
   "source": [
    "integer = 16\n",
    "type(integer)"
   ]
  },
  {
   "cell_type": "code",
   "execution_count": 41,
   "id": "9c316449-269e-456f-80fa-af89a8c1a81a",
   "metadata": {},
   "outputs": [],
   "source": [
    "floating_point_number = 4.6"
   ]
  },
  {
   "cell_type": "code",
   "execution_count": 42,
   "id": "0a093690-a65a-4955-a4eb-e1cd8f5f29bb",
   "metadata": {},
   "outputs": [
    {
     "name": "stdout",
     "output_type": "stream",
     "text": [
      "<class 'float'>\n"
     ]
    }
   ],
   "source": [
    "print(type(floating_point_number))"
   ]
  },
  {
   "cell_type": "code",
   "execution_count": 43,
   "id": "c8f980cb-5a18-4132-9c95-0a30d01c001c",
   "metadata": {},
   "outputs": [],
   "source": [
    "my_list = [1,2,3,4,5]"
   ]
  },
  {
   "cell_type": "code",
   "execution_count": 44,
   "id": "4bd41676-e1b2-4739-81dc-3dfa4210ce8a",
   "metadata": {},
   "outputs": [
    {
     "name": "stdout",
     "output_type": "stream",
     "text": [
      "[1, 2, 3, 4, 5]\n"
     ]
    }
   ],
   "source": [
    "print(my_list)"
   ]
  },
  {
   "cell_type": "code",
   "execution_count": 45,
   "id": "4e7485ef-60a4-4f47-8719-e364caa6ffa5",
   "metadata": {},
   "outputs": [
    {
     "data": {
      "text/plain": [
       "list"
      ]
     },
     "execution_count": 45,
     "metadata": {},
     "output_type": "execute_result"
    }
   ],
   "source": [
    "type(my_list)"
   ]
  },
  {
   "cell_type": "code",
   "execution_count": 46,
   "id": "419d4d0f-fb74-462d-9ac3-8608ac0d2103",
   "metadata": {},
   "outputs": [
    {
     "name": "stdout",
     "output_type": "stream",
     "text": [
      "('A', 'B', 'C')\n"
     ]
    }
   ],
   "source": [
    "triple = ('A', 'B', 'C')\n",
    "print(triple)"
   ]
  },
  {
   "cell_type": "code",
   "execution_count": 47,
   "id": "ae520198-11cd-467d-aa25-de3c581c18d7",
   "metadata": {},
   "outputs": [
    {
     "data": {
      "text/plain": [
       "tuple"
      ]
     },
     "execution_count": 47,
     "metadata": {},
     "output_type": "execute_result"
    }
   ],
   "source": [
    "type(triple)\n"
   ]
  },
  {
   "cell_type": "code",
   "execution_count": 48,
   "id": "b5c46117-0ec4-4794-a0e1-8db1289ad55f",
   "metadata": {},
   "outputs": [
    {
     "name": "stdout",
     "output_type": "stream",
     "text": [
      "range(0, 10)\n"
     ]
    }
   ],
   "source": [
    "to_ten = range(10)\n",
    "print(to_ten)"
   ]
  },
  {
   "cell_type": "code",
   "execution_count": 49,
   "id": "a96f916d-b411-4485-90db-372b088ff305",
   "metadata": {},
   "outputs": [
    {
     "data": {
      "text/plain": [
       "range"
      ]
     },
     "execution_count": 49,
     "metadata": {},
     "output_type": "execute_result"
    }
   ],
   "source": [
    "type(to_ten)"
   ]
  },
  {
   "cell_type": "code",
   "execution_count": 51,
   "id": "3feb9db0-bdd8-41b2-bb75-3b728444d2f3",
   "metadata": {},
   "outputs": [
    {
     "name": "stdout",
     "output_type": "stream",
     "text": [
      "0\n",
      "1\n",
      "2\n",
      "3\n",
      "4\n",
      "5\n",
      "6\n",
      "7\n",
      "8\n",
      "9\n"
     ]
    }
   ],
   "source": [
    "for i in to_ten:\n",
    "    print(i)"
   ]
  },
  {
   "cell_type": "code",
   "execution_count": 52,
   "id": "82aa6844-d5dd-4740-a3c2-4115b93e8307",
   "metadata": {},
   "outputs": [
    {
     "name": "stdout",
     "output_type": "stream",
     "text": [
      "{'name': 'Musa', 'lastname': 'Arda', 'language': 'Python'}\n"
     ]
    }
   ],
   "source": [
    "dictionary = {\n",
    "    \"name\" : \"Musa\",\n",
    "    \"lastname\": \"Arda\",\n",
    "    \"language\": \"Python\"\n",
    "}\n",
    "# <TAB>\n",
    "print(dictionary)"
   ]
  },
  {
   "cell_type": "code",
   "execution_count": 53,
   "id": "6892aa2e-e6d9-49e9-8080-2a5d3b30d822",
   "metadata": {},
   "outputs": [
    {
     "data": {
      "text/plain": [
       "dict"
      ]
     },
     "execution_count": 53,
     "metadata": {},
     "output_type": "execute_result"
    }
   ],
   "source": [
    "type(dictionary)"
   ]
  },
  {
   "cell_type": "code",
   "execution_count": 54,
   "id": "8a13b690-c24b-4010-84b3-9b875ddd4c22",
   "metadata": {},
   "outputs": [
    {
     "name": "stdout",
     "output_type": "stream",
     "text": [
      "{1, 2, 3, 4}\n"
     ]
    }
   ],
   "source": [
    "set_of_numbers = set([1,2,2,3,1,3,4,4])\n",
    "print(set_of_numbers)"
   ]
  },
  {
   "cell_type": "code",
   "execution_count": 56,
   "id": "4de52d8c-a359-4342-94d3-e11877763c19",
   "metadata": {},
   "outputs": [
    {
     "data": {
      "text/plain": [
       "set"
      ]
     },
     "execution_count": 56,
     "metadata": {},
     "output_type": "execute_result"
    }
   ],
   "source": [
    "type(set_of_numbers)"
   ]
  },
  {
   "cell_type": "code",
   "execution_count": 57,
   "id": "1e4185f2-f839-4830-9101-ce0dd2c087dc",
   "metadata": {},
   "outputs": [
    {
     "name": "stdout",
     "output_type": "stream",
     "text": [
      "True\n",
      "False\n"
     ]
    }
   ],
   "source": [
    "correct = True\n",
    "wrong = False\n",
    "print(correct)\n",
    "print(wrong)"
   ]
  },
  {
   "cell_type": "code",
   "execution_count": 58,
   "id": "ed4726a2-af42-447c-8d66-d7928f7385e6",
   "metadata": {},
   "outputs": [
    {
     "data": {
      "text/plain": [
       "bool"
      ]
     },
     "execution_count": 58,
     "metadata": {},
     "output_type": "execute_result"
    }
   ],
   "source": [
    "type(correct)"
   ]
  },
  {
   "cell_type": "markdown",
   "id": "941faebb-1442-4aff-8ffd-1f7fa9d704de",
   "metadata": {},
   "source": [
    "**Compiler** translates your source code into machine language.\n",
    "\n",
    "Compiler does this translation all at once when you finish coding. (as a whole)\n",
    "\n",
    "**Interpreter** translates your source code into machine language.\n",
    "\n",
    "Interpreter does this translation while you are coding. (line by line)\n",
    "\n",
    "In Python we have Python Interpreter."
   ]
  },
  {
   "cell_type": "markdown",
   "id": "4116d4ba-d434-415c-b879-6d5d8b5573f1",
   "metadata": {},
   "source": [
    "**Comments** are lines, which are `igored` by Interpreter\n",
    "Interpreter does not run Comments."
   ]
  },
  {
   "cell_type": "code",
   "execution_count": 2,
   "id": "55751fb4-23f3-4089-91b5-3ce6cad24738",
   "metadata": {},
   "outputs": [],
   "source": [
    "# One Line Comment\n",
    "\n",
    "# This is one line comment"
   ]
  },
  {
   "cell_type": "code",
   "execution_count": 3,
   "id": "a8ee9d60-e1b7-4614-8cda-f54b4608f2a4",
   "metadata": {},
   "outputs": [
    {
     "name": "stdout",
     "output_type": "stream",
     "text": [
      "90000\n"
     ]
    }
   ],
   "source": [
    "# keeps the miles traveled\n",
    "miles_traveled = 90000\n",
    "\n",
    "print(miles_traveled)"
   ]
  },
  {
   "cell_type": "code",
   "execution_count": 4,
   "id": "971ea316-7ede-4a34-a407-8f490544f713",
   "metadata": {},
   "outputs": [
    {
     "name": "stdout",
     "output_type": "stream",
     "text": [
      "75.0\n"
     ]
    }
   ],
   "source": [
    "#avarage speed = displacement / change in time\n",
    "\n",
    "# first get the displacement\n",
    "displacement = 450 # km\n",
    "\n",
    "# then get the change in time\n",
    "change_in_time = 6 #hr\n",
    "\n",
    "#calculate the avarage speed\n",
    "avarage_speed = displacement / change_in_time\n",
    "\n",
    "#print the result\n",
    "print(avarage_speed)"
   ]
  },
  {
   "cell_type": "code",
   "execution_count": 5,
   "id": "502ec664-72cb-4a65-be2b-9b5c4f931a1d",
   "metadata": {},
   "outputs": [],
   "source": [
    "# One line Comment"
   ]
  },
  {
   "cell_type": "code",
   "execution_count": 6,
   "id": "92a7d0b9-3f49-429f-b5ee-468f39040125",
   "metadata": {},
   "outputs": [
    {
     "data": {
      "text/plain": [
       "'\\nMulti-Line comment\\nIn Python multi line comments\\nare create via two (tripple) double quotes\\n\\nAs in this case.\\n'"
      ]
     },
     "execution_count": 6,
     "metadata": {},
     "output_type": "execute_result"
    }
   ],
   "source": [
    "\"\"\"\n",
    "Multi-Line comment\n",
    "In Python multi line comments\n",
    "are create via two (tripple) double quotes\n",
    "\n",
    "As in this case.\n",
    "\"\"\""
   ]
  },
  {
   "cell_type": "code",
   "execution_count": 7,
   "id": "da0fd0a4-0773-4873-8701-909aa350d552",
   "metadata": {},
   "outputs": [
    {
     "name": "stdout",
     "output_type": "stream",
     "text": [
      "Line 1 \n",
      "Line 2\n",
      " Line 3\n"
     ]
    }
   ],
   "source": [
    "multi_line_text = \"Line 1 \\nLine 2\\n Line 3\"\n",
    "print(multi_line_text)"
   ]
  },
  {
   "cell_type": "markdown",
   "id": "c58c81ab-b907-4a0d-aa2f-1e1b3e9e4c6c",
   "metadata": {},
   "source": [
    "`\\n` new line character"
   ]
  },
  {
   "cell_type": "code",
   "execution_count": 9,
   "id": "a8ef045a-fc8b-4efb-a526-d2df13e0340a",
   "metadata": {},
   "outputs": [
    {
     "name": "stdout",
     "output_type": "stream",
     "text": [
      "Hello my dear \n",
      "Python\n"
     ]
    }
   ],
   "source": [
    "print(\"Hello my dear \\nPython\")"
   ]
  },
  {
   "cell_type": "code",
   "execution_count": 10,
   "id": "70b9cd1f-c780-4c43-a4c2-473d8391e8bd",
   "metadata": {},
   "outputs": [
    {
     "data": {
      "text/plain": [
       "'\\n    This is line 1\\n        This is line 2\\n            This is line 3\\n'"
      ]
     },
     "execution_count": 10,
     "metadata": {},
     "output_type": "execute_result"
    }
   ],
   "source": [
    "\"\"\"\n",
    "    This is line 1\n",
    "        This is line 2\n",
    "            This is line 3\n",
    "\"\"\""
   ]
  },
  {
   "cell_type": "code",
   "execution_count": 11,
   "id": "8edafe97-9e8f-49e8-b434-7537ebd8ac45",
   "metadata": {},
   "outputs": [
    {
     "name": "stdout",
     "output_type": "stream",
     "text": [
      "\n",
      "    This is line 1\n",
      "        This is line 2\n",
      "            This is line 3\n",
      "\n"
     ]
    }
   ],
   "source": [
    "print(\"\"\"\n",
    "    This is line 1\n",
    "        This is line 2\n",
    "            This is line 3\n",
    "\"\"\")\n"
   ]
  },
  {
   "cell_type": "markdown",
   "id": "ffb330ba-54e8-49db-8399-94756584a533",
   "metadata": {},
   "source": [
    "### Numeric Operations"
   ]
  },
  {
   "cell_type": "code",
   "execution_count": 12,
   "id": "5b01b8d4-d0dc-4750-afbb-180b2acf898d",
   "metadata": {},
   "outputs": [
    {
     "name": "stdout",
     "output_type": "stream",
     "text": [
      "37\n"
     ]
    }
   ],
   "source": [
    "# define two variables\n",
    "\n",
    "a = 30\n",
    "b = 7\n",
    "\n",
    "print(a + b) #addition"
   ]
  },
  {
   "cell_type": "code",
   "execution_count": 13,
   "id": "179e9258-1a09-46ec-af31-9f851c4f21bf",
   "metadata": {},
   "outputs": [
    {
     "name": "stdout",
     "output_type": "stream",
     "text": [
      "23\n"
     ]
    }
   ],
   "source": [
    "print (a - b) # subtraction"
   ]
  },
  {
   "cell_type": "code",
   "execution_count": 14,
   "id": "030dfca0-b222-462c-9634-d2657134c431",
   "metadata": {},
   "outputs": [
    {
     "name": "stdout",
     "output_type": "stream",
     "text": [
      "210\n"
     ]
    }
   ],
   "source": [
    "print(a * b) # multiplication"
   ]
  },
  {
   "cell_type": "code",
   "execution_count": 15,
   "id": "75bf969f-3081-48ac-8db5-3bb19f5d02c2",
   "metadata": {},
   "outputs": [
    {
     "name": "stdout",
     "output_type": "stream",
     "text": [
      "4.285714285714286\n"
     ]
    }
   ],
   "source": [
    "print(a / b) #division"
   ]
  },
  {
   "cell_type": "code",
   "execution_count": 16,
   "id": "0de13c45-2bc0-4efc-87d4-33b821b50774",
   "metadata": {},
   "outputs": [
    {
     "name": "stdout",
     "output_type": "stream",
     "text": [
      "4\n"
     ]
    }
   ],
   "source": [
    "print( a // b) # floor division(integer division)"
   ]
  },
  {
   "cell_type": "code",
   "execution_count": 18,
   "id": "1b7eed2d-427d-48eb-ada0-20e28e9b0673",
   "metadata": {},
   "outputs": [
    {
     "name": "stdout",
     "output_type": "stream",
     "text": [
      "2\n"
     ]
    }
   ],
   "source": [
    "print(a % b) # modulus"
   ]
  },
  {
   "cell_type": "code",
   "execution_count": 19,
   "id": "e4b58087-e915-466a-b34b-cc9de3f33c10",
   "metadata": {},
   "outputs": [
    {
     "name": "stdout",
     "output_type": "stream",
     "text": [
      "21870000000\n"
     ]
    }
   ],
   "source": [
    "print(a**b) # power"
   ]
  },
  {
   "cell_type": "markdown",
   "id": "abf42558-f55d-4381-91c5-9c6321129d3d",
   "metadata": {},
   "source": [
    "**Order of Operations:** Parenthesis, Exponents, Division, Multiplication, Addition, Subtraction\n",
    "\n",
    "`PEDMAS`"
   ]
  },
  {
   "cell_type": "code",
   "execution_count": 20,
   "id": "515d2a53-8f23-4453-a912-57809a0a79db",
   "metadata": {},
   "outputs": [
    {
     "name": "stdout",
     "output_type": "stream",
     "text": [
      "13.0\n"
     ]
    }
   ],
   "source": [
    "print(4* 5 - 9 + 14 / 7)"
   ]
  },
  {
   "cell_type": "code",
   "execution_count": 22,
   "id": "4a5afad0-81de-4b49-b2d7-2ffd8a5e2ff3",
   "metadata": {},
   "outputs": [
    {
     "data": {
      "text/plain": [
       "10"
      ]
     },
     "execution_count": 22,
     "metadata": {},
     "output_type": "execute_result"
    }
   ],
   "source": [
    "a = 9 \n",
    "\n",
    "# increment a by 1\n",
    "a = a + 1\n",
    "a"
   ]
  },
  {
   "cell_type": "code",
   "execution_count": 23,
   "id": "8b1c8486-b00b-4fe6-b85f-e5dbaa42a6ed",
   "metadata": {},
   "outputs": [],
   "source": [
    "a = a + 4"
   ]
  },
  {
   "cell_type": "code",
   "execution_count": 24,
   "id": "88ec953f-f798-4845-b465-dce4fcd98fb9",
   "metadata": {},
   "outputs": [
    {
     "data": {
      "text/plain": [
       "14"
      ]
     },
     "execution_count": 24,
     "metadata": {},
     "output_type": "execute_result"
    }
   ],
   "source": [
    "a"
   ]
  },
  {
   "cell_type": "code",
   "execution_count": 26,
   "id": "348693aa-8f0c-4e14-9a12-371569f97c20",
   "metadata": {},
   "outputs": [
    {
     "data": {
      "text/plain": [
       "15"
      ]
     },
     "execution_count": 26,
     "metadata": {},
     "output_type": "execute_result"
    }
   ],
   "source": [
    "# shorthand Increment -> +=\n",
    "a += 1 # a = a + 1\n",
    "a"
   ]
  },
  {
   "cell_type": "code",
   "execution_count": 27,
   "id": "b4ff114b-6028-4034-8ddc-a68b683f6599",
   "metadata": {},
   "outputs": [],
   "source": [
    "# Shorthand Decrement -> -=\n",
    "a -= 6 # a = a - 6"
   ]
  },
  {
   "cell_type": "code",
   "execution_count": 28,
   "id": "a981ea36-a4d4-4703-b282-78053cddcee9",
   "metadata": {},
   "outputs": [
    {
     "data": {
      "text/plain": [
       "9"
      ]
     },
     "execution_count": 28,
     "metadata": {},
     "output_type": "execute_result"
    }
   ],
   "source": [
    "a"
   ]
  },
  {
   "cell_type": "code",
   "execution_count": 29,
   "id": "4e5d2303-9601-43cb-8143-197648deb3aa",
   "metadata": {},
   "outputs": [],
   "source": [
    "# Shorthand Multiply -> *="
   ]
  },
  {
   "cell_type": "code",
   "execution_count": 30,
   "id": "5b5309c6-a850-479b-9559-ff6a3991caf7",
   "metadata": {},
   "outputs": [],
   "source": [
    "a *= 5"
   ]
  },
  {
   "cell_type": "code",
   "execution_count": 31,
   "id": "bd5b62c7-abba-42f7-a7fb-7faa2e54471b",
   "metadata": {},
   "outputs": [
    {
     "data": {
      "text/plain": [
       "45"
      ]
     },
     "execution_count": 31,
     "metadata": {},
     "output_type": "execute_result"
    }
   ],
   "source": [
    "a"
   ]
  },
  {
   "cell_type": "code",
   "execution_count": 32,
   "id": "2f571f00-b9f3-4c33-a45c-6bc5d2ce2973",
   "metadata": {},
   "outputs": [],
   "source": [
    "# Shorthand division -> /="
   ]
  },
  {
   "cell_type": "code",
   "execution_count": 33,
   "id": "fa61231f-89c7-4c7f-b5db-400391e3b9a7",
   "metadata": {},
   "outputs": [],
   "source": [
    "a /= 11 # a = a / 11"
   ]
  },
  {
   "cell_type": "code",
   "execution_count": 34,
   "id": "80bf1e34-7e58-4855-b5e7-a3632626d2e1",
   "metadata": {},
   "outputs": [
    {
     "data": {
      "text/plain": [
       "4.090909090909091"
      ]
     },
     "execution_count": 34,
     "metadata": {},
     "output_type": "execute_result"
    }
   ],
   "source": [
    "a"
   ]
  },
  {
   "cell_type": "markdown",
   "id": "2cd94760-037f-491a-a85c-2b5288af6105",
   "metadata": {},
   "source": [
    "### String Operations"
   ]
  },
  {
   "cell_type": "markdown",
   "id": "a743d98e-b1ff-4776-93fc-324cdef72ea4",
   "metadata": {},
   "source": [
    "In Python Strings are displayed via **double quotes (\" \") or single quotes (' ')."
   ]
  },
  {
   "cell_type": "markdown",
   "id": "6fbe784f-8070-4d25-834e-65ac75ba9bfd",
   "metadata": {},
   "source": [
    "`Opening and Closing Quotes should match`."
   ]
  },
  {
   "cell_type": "code",
   "execution_count": 35,
   "id": "8a761752-9d57-41b1-b52f-fafc5bc60ac8",
   "metadata": {},
   "outputs": [
    {
     "name": "stdout",
     "output_type": "stream",
     "text": [
      "This is a double quotes string.\n"
     ]
    }
   ],
   "source": [
    "string_double = \"This is a double quotes string.\"\n",
    "print(string_double)"
   ]
  },
  {
   "cell_type": "code",
   "execution_count": 36,
   "id": "d98af708-8dac-4225-8805-9954eafb2de5",
   "metadata": {},
   "outputs": [
    {
     "name": "stdout",
     "output_type": "stream",
     "text": [
      "this\n"
     ]
    }
   ],
   "source": [
    "string_single = 'this'\n",
    "print(string_single)"
   ]
  },
  {
   "cell_type": "code",
   "execution_count": 37,
   "id": "a7626eee-b4ad-4536-8a03-ea5014507148",
   "metadata": {},
   "outputs": [],
   "source": [
    "# if u need to use both in the same string\n",
    "\n",
    "single_in_double = \"ASD 'qwe' asdasdasd\""
   ]
  },
  {
   "cell_type": "code",
   "execution_count": 38,
   "id": "0f5e8b97-60be-48d0-b1dd-609ea0b4925e",
   "metadata": {},
   "outputs": [
    {
     "name": "stdout",
     "output_type": "stream",
     "text": [
      "ASD 'qwe' asdasdasd\n"
     ]
    }
   ],
   "source": [
    "print(single_in_double)"
   ]
  },
  {
   "cell_type": "code",
   "execution_count": 40,
   "id": "9aff46d5-fcb2-443e-881c-3313281fe2be",
   "metadata": {},
   "outputs": [],
   "source": [
    "double_in_single = 'qwerq r \"sadasdasd\" wqeqpwdjkpqwjdpwqdwqpdjpq'"
   ]
  },
  {
   "cell_type": "code",
   "execution_count": 41,
   "id": "ae35313c-bf65-437f-8f6a-7015f25ae615",
   "metadata": {},
   "outputs": [
    {
     "name": "stdout",
     "output_type": "stream",
     "text": [
      "qwerq r \"sadasdasd\" wqeqpwdjkpqwjdpwqdwqpdjpq\n"
     ]
    }
   ],
   "source": [
    "print(double_in_single)"
   ]
  },
  {
   "cell_type": "code",
   "execution_count": 42,
   "id": "87d6b3b9-700a-4c3e-958b-622129f738d6",
   "metadata": {},
   "outputs": [
    {
     "ename": "SyntaxError",
     "evalue": "EOL while scanning string literal (244363009.py, line 1)",
     "output_type": "error",
     "traceback": [
      "\u001b[1;36m  Input \u001b[1;32mIn [42]\u001b[1;36m\u001b[0m\n\u001b[1;33m    false = \"This is a 'double quote'\u001b[0m\n\u001b[1;37m                                     ^\u001b[0m\n\u001b[1;31mSyntaxError\u001b[0m\u001b[1;31m:\u001b[0m EOL while scanning string literal\n"
     ]
    }
   ],
   "source": [
    "false = \"This is a 'double quote'"
   ]
  },
  {
   "cell_type": "markdown",
   "id": "904fb5d1-86dc-4ce3-8122-10c70fa91641",
   "metadata": {},
   "source": [
    "In Python, u can not arithmetic operations on Strings (str)\n",
    "\n",
    "* -, /\n",
    "* '4' - '3'"
   ]
  },
  {
   "cell_type": "code",
   "execution_count": 43,
   "id": "0fa8a573-aee6-4211-8126-da4484e1a573",
   "metadata": {},
   "outputs": [
    {
     "ename": "TypeError",
     "evalue": "unsupported operand type(s) for -: 'str' and 'str'",
     "output_type": "error",
     "traceback": [
      "\u001b[1;31m---------------------------------------------------------------------------\u001b[0m",
      "\u001b[1;31mTypeError\u001b[0m                                 Traceback (most recent call last)",
      "Input \u001b[1;32mIn [43]\u001b[0m, in \u001b[0;36m<cell line: 1>\u001b[1;34m()\u001b[0m\n\u001b[1;32m----> 1\u001b[0m \u001b[38;5;124;43m'\u001b[39;49m\u001b[38;5;124;43m4\u001b[39;49m\u001b[38;5;124;43m'\u001b[39;49m\u001b[43m \u001b[49m\u001b[38;5;241;43m-\u001b[39;49m\u001b[43m \u001b[49m\u001b[38;5;124;43m'\u001b[39;49m\u001b[38;5;124;43m3\u001b[39;49m\u001b[38;5;124;43m'\u001b[39;49m\n",
      "\u001b[1;31mTypeError\u001b[0m: unsupported operand type(s) for -: 'str' and 'str'"
     ]
    }
   ],
   "source": [
    "'4' - '3'"
   ]
  },
  {
   "cell_type": "code",
   "execution_count": 45,
   "id": "437abd06-6f3c-4d8f-8ca1-e41e581093b5",
   "metadata": {},
   "outputs": [
    {
     "ename": "TypeError",
     "evalue": "unsupported operand type(s) for /: 'str' and 'str'",
     "output_type": "error",
     "traceback": [
      "\u001b[1;31m---------------------------------------------------------------------------\u001b[0m",
      "\u001b[1;31mTypeError\u001b[0m                                 Traceback (most recent call last)",
      "Input \u001b[1;32mIn [45]\u001b[0m, in \u001b[0;36m<cell line: 1>\u001b[1;34m()\u001b[0m\n\u001b[1;32m----> 1\u001b[0m \u001b[38;5;124;43m'\u001b[39;49m\u001b[38;5;124;43m4\u001b[39;49m\u001b[38;5;124;43m'\u001b[39;49m\u001b[43m \u001b[49m\u001b[38;5;241;43m/\u001b[39;49m\u001b[43m \u001b[49m\u001b[38;5;124;43m'\u001b[39;49m\u001b[38;5;124;43m3\u001b[39;49m\u001b[38;5;124;43m'\u001b[39;49m\n",
      "\u001b[1;31mTypeError\u001b[0m: unsupported operand type(s) for /: 'str' and 'str'"
     ]
    }
   ],
   "source": [
    "'4' / '3'"
   ]
  },
  {
   "cell_type": "markdown",
   "id": "712f0d81-9bba-4deb-a18e-60658a242078",
   "metadata": {},
   "source": [
    "**Exceptional Case:** + and * is possible with str.\n",
    "\n",
    "(but with its own logic)"
   ]
  },
  {
   "cell_type": "code",
   "execution_count": 47,
   "id": "cdf51ce3-9fbb-45e2-abd1-301dddfeb70d",
   "metadata": {},
   "outputs": [],
   "source": [
    "first = \"Sunny\""
   ]
  },
  {
   "cell_type": "code",
   "execution_count": 48,
   "id": "4ad1b286-22f8-4054-b063-6f5e86fcaf51",
   "metadata": {},
   "outputs": [],
   "source": [
    "second = \"Days\"\n"
   ]
  },
  {
   "cell_type": "code",
   "execution_count": 49,
   "id": "60aa7cc0-63a0-4afc-8c0e-cf2a88155848",
   "metadata": {},
   "outputs": [],
   "source": [
    "#Addition in strings (concatination)"
   ]
  },
  {
   "cell_type": "code",
   "execution_count": 50,
   "id": "fad7ef6b-d2fb-4de4-bc08-6ddff2e35388",
   "metadata": {},
   "outputs": [
    {
     "data": {
      "text/plain": [
       "'SunnyDays'"
      ]
     },
     "execution_count": 50,
     "metadata": {},
     "output_type": "execute_result"
    }
   ],
   "source": [
    "first + second"
   ]
  },
  {
   "cell_type": "code",
   "execution_count": 51,
   "id": "0f651166-833d-4042-be25-8856c439e182",
   "metadata": {},
   "outputs": [
    {
     "data": {
      "text/plain": [
       "'SunnyDaysSunnySunnyDays'"
      ]
     },
     "execution_count": 51,
     "metadata": {},
     "output_type": "execute_result"
    }
   ],
   "source": [
    "first + second + first + first + second"
   ]
  },
  {
   "cell_type": "code",
   "execution_count": 52,
   "id": "02e91eb4-f08c-4568-ace3-f94466b3bff7",
   "metadata": {},
   "outputs": [
    {
     "data": {
      "text/plain": [
       "'SunnySunnySunnySunny'"
      ]
     },
     "execution_count": 52,
     "metadata": {},
     "output_type": "execute_result"
    }
   ],
   "source": [
    "# Multiplication in strings\n",
    "4 * first"
   ]
  },
  {
   "cell_type": "code",
   "execution_count": 53,
   "id": "fdf708f2-0117-4cfe-918e-8688adb58584",
   "metadata": {},
   "outputs": [
    {
     "data": {
      "text/plain": [
       "'555555'"
      ]
     },
     "execution_count": 53,
     "metadata": {},
     "output_type": "execute_result"
    }
   ],
   "source": [
    "6 * '5'"
   ]
  },
  {
   "cell_type": "code",
   "execution_count": 54,
   "id": "d32e52e3-5c6c-4dde-8fa8-b87312387dd1",
   "metadata": {},
   "outputs": [
    {
     "data": {
      "text/plain": [
       "'888'"
      ]
     },
     "execution_count": 54,
     "metadata": {},
     "output_type": "execute_result"
    }
   ],
   "source": [
    "3 * '8'"
   ]
  },
  {
   "cell_type": "markdown",
   "id": "63e8812f-465f-4d43-bb30-a92e3a669e45",
   "metadata": {},
   "source": [
    "### Keywords"
   ]
  },
  {
   "cell_type": "markdown",
   "id": "787b9092-f75f-4545-b701-3696e593b5c2",
   "metadata": {},
   "source": [
    "Python keywords are in **keyword** package."
   ]
  },
  {
   "cell_type": "markdown",
   "id": "ef2794f4-0e96-4e40-9465-d36b735a6957",
   "metadata": {},
   "source": [
    "**import**"
   ]
  },
  {
   "cell_type": "code",
   "execution_count": 56,
   "id": "082d51c8-2594-4a9e-90c2-e2702c0c703d",
   "metadata": {},
   "outputs": [],
   "source": [
    "# first import the package\n",
    "import keyword"
   ]
  },
  {
   "cell_type": "code",
   "execution_count": 57,
   "id": "77ea5ae1-fb7e-4abb-af10-f6085f705492",
   "metadata": {},
   "outputs": [],
   "source": [
    "# Get keyword list"
   ]
  },
  {
   "cell_type": "code",
   "execution_count": 58,
   "id": "b89f2b38-1b7f-458b-b8e0-be82d53fc603",
   "metadata": {},
   "outputs": [],
   "source": [
    "# And assign this list to a variable"
   ]
  },
  {
   "cell_type": "code",
   "execution_count": 59,
   "id": "dc48c3f5-964f-46d6-b947-fc65f0252fef",
   "metadata": {},
   "outputs": [],
   "source": [
    "python_keywords = keyword.kwlist"
   ]
  },
  {
   "cell_type": "code",
   "execution_count": 60,
   "id": "ca7407c3-c067-4b32-b392-d0ce80350be7",
   "metadata": {},
   "outputs": [],
   "source": [
    "#print keywords"
   ]
  },
  {
   "cell_type": "code",
   "execution_count": 61,
   "id": "9820cec7-39b4-4d5d-8a2f-7043fc2fb3ac",
   "metadata": {},
   "outputs": [
    {
     "name": "stdout",
     "output_type": "stream",
     "text": [
      "['False', 'None', 'True', '__peg_parser__', 'and', 'as', 'assert', 'async', 'await', 'break', 'class', 'continue', 'def', 'del', 'elif', 'else', 'except', 'finally', 'for', 'from', 'global', 'if', 'import', 'in', 'is', 'lambda', 'nonlocal', 'not', 'or', 'pass', 'raise', 'return', 'try', 'while', 'with', 'yield']\n"
     ]
    }
   ],
   "source": [
    "print(python_keywords)"
   ]
  },
  {
   "cell_type": "code",
   "execution_count": 62,
   "id": "a2b0e5d0-ab06-4751-9c99-3b4872e7f25c",
   "metadata": {},
   "outputs": [
    {
     "ename": "SyntaxError",
     "evalue": "invalid syntax (3681637931.py, line 1)",
     "output_type": "error",
     "traceback": [
      "\u001b[1;36m  Input \u001b[1;32mIn [62]\u001b[1;36m\u001b[0m\n\u001b[1;33m    import = 45\u001b[0m\n\u001b[1;37m           ^\u001b[0m\n\u001b[1;31mSyntaxError\u001b[0m\u001b[1;31m:\u001b[0m invalid syntax\n"
     ]
    }
   ],
   "source": [
    "import = 45"
   ]
  },
  {
   "cell_type": "code",
   "execution_count": 63,
   "id": "88d36418-cb55-4c64-b8b4-857554299600",
   "metadata": {},
   "outputs": [
    {
     "ename": "SyntaxError",
     "evalue": "invalid syntax (3021100593.py, line 1)",
     "output_type": "error",
     "traceback": [
      "\u001b[1;36m  Input \u001b[1;32mIn [63]\u001b[1;36m\u001b[0m\n\u001b[1;33m    global = 'ABS'\u001b[0m\n\u001b[1;37m           ^\u001b[0m\n\u001b[1;31mSyntaxError\u001b[0m\u001b[1;31m:\u001b[0m invalid syntax\n"
     ]
    }
   ],
   "source": [
    "global = 'ABS'"
   ]
  },
  {
   "cell_type": "markdown",
   "id": "3dc4ded2-d1a6-4680-a285-dc4907129a86",
   "metadata": {},
   "source": [
    "Is any word a keyword for Python "
   ]
  },
  {
   "cell_type": "code",
   "execution_count": 65,
   "id": "23586e7b-6b35-41c6-ba94-8bd2dfb60161",
   "metadata": {},
   "outputs": [],
   "source": [
    "# To Check -> keyword()"
   ]
  },
  {
   "cell_type": "code",
   "execution_count": 67,
   "id": "e8d82267-c4ef-400a-a264-d28f666d82af",
   "metadata": {},
   "outputs": [
    {
     "data": {
      "text/plain": [
       "True"
      ]
     },
     "execution_count": 67,
     "metadata": {},
     "output_type": "execute_result"
    }
   ],
   "source": [
    "keyword.iskeyword('not')"
   ]
  },
  {
   "cell_type": "code",
   "execution_count": 68,
   "id": "5be26471-f891-4b7c-a8d6-b993d9f45233",
   "metadata": {},
   "outputs": [
    {
     "data": {
      "text/plain": [
       "True"
      ]
     },
     "execution_count": 68,
     "metadata": {},
     "output_type": "execute_result"
    }
   ],
   "source": [
    "keyword.iskeyword('None')"
   ]
  },
  {
   "cell_type": "code",
   "execution_count": 69,
   "id": "0911fdc0-d8ba-43bd-b04c-b03495cd6ad1",
   "metadata": {},
   "outputs": [
    {
     "data": {
      "text/plain": [
       "True"
      ]
     },
     "execution_count": 69,
     "metadata": {},
     "output_type": "execute_result"
    }
   ],
   "source": [
    "keyword.iskeyword('return')"
   ]
  },
  {
   "cell_type": "code",
   "execution_count": 70,
   "id": "72fae602-97ad-44ae-84cf-4d11a4f0378b",
   "metadata": {},
   "outputs": [
    {
     "data": {
      "text/plain": [
       "False"
      ]
     },
     "execution_count": 70,
     "metadata": {},
     "output_type": "execute_result"
    }
   ],
   "source": [
    "keyword.iskeyword('python')"
   ]
  },
  {
   "cell_type": "code",
   "execution_count": null,
   "id": "2829a4dd-c0e6-4a9f-a6f5-0551e4858086",
   "metadata": {},
   "outputs": [],
   "source": [
    "keyword.iskeyword('not')"
   ]
  }
 ],
 "metadata": {
  "kernelspec": {
   "display_name": "Python 3 (ipykernel)",
   "language": "python",
   "name": "python3"
  },
  "language_info": {
   "codemirror_mode": {
    "name": "ipython",
    "version": 3
   },
   "file_extension": ".py",
   "mimetype": "text/x-python",
   "name": "python",
   "nbconvert_exporter": "python",
   "pygments_lexer": "ipython3",
   "version": "3.9.12"
  }
 },
 "nbformat": 4,
 "nbformat_minor": 5
}
